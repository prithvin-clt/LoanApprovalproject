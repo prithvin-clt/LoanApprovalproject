{
  "cells": [
    {
      "cell_type": "markdown",
      "metadata": {
        "id": "Znv9eXuKgmBD"
      },
      "source": [
        "# **Loan Approval Prediction**"
      ]
    },
    {
      "cell_type": "code",
      "execution_count": null,
      "metadata": {
        "id": "_DWIknjgQ4VQ"
      },
      "outputs": [],
      "source": [
        "import pandas as pd"
      ]
    },
    {
      "cell_type": "code",
      "execution_count": null,
      "metadata": {
        "id": "Vxz_Z3k1RP4c"
      },
      "outputs": [],
      "source": [
        "df=pd.read_csv('/content/drive/MyDrive/data science/project/loan_data.csv')"
      ]
    },
    {
      "cell_type": "code",
      "execution_count": null,
      "metadata": {
        "colab": {
          "base_uri": "https://localhost:8080/",
          "height": 226
        },
        "id": "NM2fXYmxRUHd",
        "outputId": "6a6a55d8-d8d8-4ae3-c3d9-1e88d47e65ba"
      },
      "outputs": [
        {
          "output_type": "execute_result",
          "data": {
            "text/plain": [
              "   person_age person_gender person_education  person_income  person_emp_exp  \\\n",
              "0        22.0        female           Master        71948.0               0   \n",
              "1        21.0        female      High School        12282.0               0   \n",
              "2        25.0        female      High School        12438.0               3   \n",
              "3        23.0        female         Bachelor        79753.0               0   \n",
              "4        24.0          male           Master        66135.0               1   \n",
              "\n",
              "  person_home_ownership  loan_amnt loan_intent  loan_int_rate  \\\n",
              "0                  RENT    35000.0    PERSONAL          16.02   \n",
              "1                   OWN     1000.0   EDUCATION          11.14   \n",
              "2              MORTGAGE     5500.0     MEDICAL          12.87   \n",
              "3                  RENT    35000.0     MEDICAL          15.23   \n",
              "4                  RENT    35000.0     MEDICAL          14.27   \n",
              "\n",
              "   loan_percent_income  cb_person_cred_hist_length  credit_score  \\\n",
              "0                 0.49                         3.0           561   \n",
              "1                 0.08                         2.0           504   \n",
              "2                 0.44                         3.0           635   \n",
              "3                 0.44                         2.0           675   \n",
              "4                 0.53                         4.0           586   \n",
              "\n",
              "  previous_loan_defaults_on_file  loan_status  \n",
              "0                             No            1  \n",
              "1                            Yes            0  \n",
              "2                             No            1  \n",
              "3                             No            1  \n",
              "4                             No            1  "
            ],
            "text/html": [
              "\n",
              "  <div id=\"df-54a5db9a-cd25-4e55-8187-cea4476a470d\" class=\"colab-df-container\">\n",
              "    <div>\n",
              "<style scoped>\n",
              "    .dataframe tbody tr th:only-of-type {\n",
              "        vertical-align: middle;\n",
              "    }\n",
              "\n",
              "    .dataframe tbody tr th {\n",
              "        vertical-align: top;\n",
              "    }\n",
              "\n",
              "    .dataframe thead th {\n",
              "        text-align: right;\n",
              "    }\n",
              "</style>\n",
              "<table border=\"1\" class=\"dataframe\">\n",
              "  <thead>\n",
              "    <tr style=\"text-align: right;\">\n",
              "      <th></th>\n",
              "      <th>person_age</th>\n",
              "      <th>person_gender</th>\n",
              "      <th>person_education</th>\n",
              "      <th>person_income</th>\n",
              "      <th>person_emp_exp</th>\n",
              "      <th>person_home_ownership</th>\n",
              "      <th>loan_amnt</th>\n",
              "      <th>loan_intent</th>\n",
              "      <th>loan_int_rate</th>\n",
              "      <th>loan_percent_income</th>\n",
              "      <th>cb_person_cred_hist_length</th>\n",
              "      <th>credit_score</th>\n",
              "      <th>previous_loan_defaults_on_file</th>\n",
              "      <th>loan_status</th>\n",
              "    </tr>\n",
              "  </thead>\n",
              "  <tbody>\n",
              "    <tr>\n",
              "      <th>0</th>\n",
              "      <td>22.0</td>\n",
              "      <td>female</td>\n",
              "      <td>Master</td>\n",
              "      <td>71948.0</td>\n",
              "      <td>0</td>\n",
              "      <td>RENT</td>\n",
              "      <td>35000.0</td>\n",
              "      <td>PERSONAL</td>\n",
              "      <td>16.02</td>\n",
              "      <td>0.49</td>\n",
              "      <td>3.0</td>\n",
              "      <td>561</td>\n",
              "      <td>No</td>\n",
              "      <td>1</td>\n",
              "    </tr>\n",
              "    <tr>\n",
              "      <th>1</th>\n",
              "      <td>21.0</td>\n",
              "      <td>female</td>\n",
              "      <td>High School</td>\n",
              "      <td>12282.0</td>\n",
              "      <td>0</td>\n",
              "      <td>OWN</td>\n",
              "      <td>1000.0</td>\n",
              "      <td>EDUCATION</td>\n",
              "      <td>11.14</td>\n",
              "      <td>0.08</td>\n",
              "      <td>2.0</td>\n",
              "      <td>504</td>\n",
              "      <td>Yes</td>\n",
              "      <td>0</td>\n",
              "    </tr>\n",
              "    <tr>\n",
              "      <th>2</th>\n",
              "      <td>25.0</td>\n",
              "      <td>female</td>\n",
              "      <td>High School</td>\n",
              "      <td>12438.0</td>\n",
              "      <td>3</td>\n",
              "      <td>MORTGAGE</td>\n",
              "      <td>5500.0</td>\n",
              "      <td>MEDICAL</td>\n",
              "      <td>12.87</td>\n",
              "      <td>0.44</td>\n",
              "      <td>3.0</td>\n",
              "      <td>635</td>\n",
              "      <td>No</td>\n",
              "      <td>1</td>\n",
              "    </tr>\n",
              "    <tr>\n",
              "      <th>3</th>\n",
              "      <td>23.0</td>\n",
              "      <td>female</td>\n",
              "      <td>Bachelor</td>\n",
              "      <td>79753.0</td>\n",
              "      <td>0</td>\n",
              "      <td>RENT</td>\n",
              "      <td>35000.0</td>\n",
              "      <td>MEDICAL</td>\n",
              "      <td>15.23</td>\n",
              "      <td>0.44</td>\n",
              "      <td>2.0</td>\n",
              "      <td>675</td>\n",
              "      <td>No</td>\n",
              "      <td>1</td>\n",
              "    </tr>\n",
              "    <tr>\n",
              "      <th>4</th>\n",
              "      <td>24.0</td>\n",
              "      <td>male</td>\n",
              "      <td>Master</td>\n",
              "      <td>66135.0</td>\n",
              "      <td>1</td>\n",
              "      <td>RENT</td>\n",
              "      <td>35000.0</td>\n",
              "      <td>MEDICAL</td>\n",
              "      <td>14.27</td>\n",
              "      <td>0.53</td>\n",
              "      <td>4.0</td>\n",
              "      <td>586</td>\n",
              "      <td>No</td>\n",
              "      <td>1</td>\n",
              "    </tr>\n",
              "  </tbody>\n",
              "</table>\n",
              "</div>\n",
              "    <div class=\"colab-df-buttons\">\n",
              "\n",
              "  <div class=\"colab-df-container\">\n",
              "    <button class=\"colab-df-convert\" onclick=\"convertToInteractive('df-54a5db9a-cd25-4e55-8187-cea4476a470d')\"\n",
              "            title=\"Convert this dataframe to an interactive table.\"\n",
              "            style=\"display:none;\">\n",
              "\n",
              "  <svg xmlns=\"http://www.w3.org/2000/svg\" height=\"24px\" viewBox=\"0 -960 960 960\">\n",
              "    <path d=\"M120-120v-720h720v720H120Zm60-500h600v-160H180v160Zm220 220h160v-160H400v160Zm0 220h160v-160H400v160ZM180-400h160v-160H180v160Zm440 0h160v-160H620v160ZM180-180h160v-160H180v160Zm440 0h160v-160H620v160Z\"/>\n",
              "  </svg>\n",
              "    </button>\n",
              "\n",
              "  <style>\n",
              "    .colab-df-container {\n",
              "      display:flex;\n",
              "      gap: 12px;\n",
              "    }\n",
              "\n",
              "    .colab-df-convert {\n",
              "      background-color: #E8F0FE;\n",
              "      border: none;\n",
              "      border-radius: 50%;\n",
              "      cursor: pointer;\n",
              "      display: none;\n",
              "      fill: #1967D2;\n",
              "      height: 32px;\n",
              "      padding: 0 0 0 0;\n",
              "      width: 32px;\n",
              "    }\n",
              "\n",
              "    .colab-df-convert:hover {\n",
              "      background-color: #E2EBFA;\n",
              "      box-shadow: 0px 1px 2px rgba(60, 64, 67, 0.3), 0px 1px 3px 1px rgba(60, 64, 67, 0.15);\n",
              "      fill: #174EA6;\n",
              "    }\n",
              "\n",
              "    .colab-df-buttons div {\n",
              "      margin-bottom: 4px;\n",
              "    }\n",
              "\n",
              "    [theme=dark] .colab-df-convert {\n",
              "      background-color: #3B4455;\n",
              "      fill: #D2E3FC;\n",
              "    }\n",
              "\n",
              "    [theme=dark] .colab-df-convert:hover {\n",
              "      background-color: #434B5C;\n",
              "      box-shadow: 0px 1px 3px 1px rgba(0, 0, 0, 0.15);\n",
              "      filter: drop-shadow(0px 1px 2px rgba(0, 0, 0, 0.3));\n",
              "      fill: #FFFFFF;\n",
              "    }\n",
              "  </style>\n",
              "\n",
              "    <script>\n",
              "      const buttonEl =\n",
              "        document.querySelector('#df-54a5db9a-cd25-4e55-8187-cea4476a470d button.colab-df-convert');\n",
              "      buttonEl.style.display =\n",
              "        google.colab.kernel.accessAllowed ? 'block' : 'none';\n",
              "\n",
              "      async function convertToInteractive(key) {\n",
              "        const element = document.querySelector('#df-54a5db9a-cd25-4e55-8187-cea4476a470d');\n",
              "        const dataTable =\n",
              "          await google.colab.kernel.invokeFunction('convertToInteractive',\n",
              "                                                    [key], {});\n",
              "        if (!dataTable) return;\n",
              "\n",
              "        const docLinkHtml = 'Like what you see? Visit the ' +\n",
              "          '<a target=\"_blank\" href=https://colab.research.google.com/notebooks/data_table.ipynb>data table notebook</a>'\n",
              "          + ' to learn more about interactive tables.';\n",
              "        element.innerHTML = '';\n",
              "        dataTable['output_type'] = 'display_data';\n",
              "        await google.colab.output.renderOutput(dataTable, element);\n",
              "        const docLink = document.createElement('div');\n",
              "        docLink.innerHTML = docLinkHtml;\n",
              "        element.appendChild(docLink);\n",
              "      }\n",
              "    </script>\n",
              "  </div>\n",
              "\n",
              "\n",
              "<div id=\"df-e0d0ce47-5c23-480c-8ebf-8defc85a742b\">\n",
              "  <button class=\"colab-df-quickchart\" onclick=\"quickchart('df-e0d0ce47-5c23-480c-8ebf-8defc85a742b')\"\n",
              "            title=\"Suggest charts\"\n",
              "            style=\"display:none;\">\n",
              "\n",
              "<svg xmlns=\"http://www.w3.org/2000/svg\" height=\"24px\"viewBox=\"0 0 24 24\"\n",
              "     width=\"24px\">\n",
              "    <g>\n",
              "        <path d=\"M19 3H5c-1.1 0-2 .9-2 2v14c0 1.1.9 2 2 2h14c1.1 0 2-.9 2-2V5c0-1.1-.9-2-2-2zM9 17H7v-7h2v7zm4 0h-2V7h2v10zm4 0h-2v-4h2v4z\"/>\n",
              "    </g>\n",
              "</svg>\n",
              "  </button>\n",
              "\n",
              "<style>\n",
              "  .colab-df-quickchart {\n",
              "      --bg-color: #E8F0FE;\n",
              "      --fill-color: #1967D2;\n",
              "      --hover-bg-color: #E2EBFA;\n",
              "      --hover-fill-color: #174EA6;\n",
              "      --disabled-fill-color: #AAA;\n",
              "      --disabled-bg-color: #DDD;\n",
              "  }\n",
              "\n",
              "  [theme=dark] .colab-df-quickchart {\n",
              "      --bg-color: #3B4455;\n",
              "      --fill-color: #D2E3FC;\n",
              "      --hover-bg-color: #434B5C;\n",
              "      --hover-fill-color: #FFFFFF;\n",
              "      --disabled-bg-color: #3B4455;\n",
              "      --disabled-fill-color: #666;\n",
              "  }\n",
              "\n",
              "  .colab-df-quickchart {\n",
              "    background-color: var(--bg-color);\n",
              "    border: none;\n",
              "    border-radius: 50%;\n",
              "    cursor: pointer;\n",
              "    display: none;\n",
              "    fill: var(--fill-color);\n",
              "    height: 32px;\n",
              "    padding: 0;\n",
              "    width: 32px;\n",
              "  }\n",
              "\n",
              "  .colab-df-quickchart:hover {\n",
              "    background-color: var(--hover-bg-color);\n",
              "    box-shadow: 0 1px 2px rgba(60, 64, 67, 0.3), 0 1px 3px 1px rgba(60, 64, 67, 0.15);\n",
              "    fill: var(--button-hover-fill-color);\n",
              "  }\n",
              "\n",
              "  .colab-df-quickchart-complete:disabled,\n",
              "  .colab-df-quickchart-complete:disabled:hover {\n",
              "    background-color: var(--disabled-bg-color);\n",
              "    fill: var(--disabled-fill-color);\n",
              "    box-shadow: none;\n",
              "  }\n",
              "\n",
              "  .colab-df-spinner {\n",
              "    border: 2px solid var(--fill-color);\n",
              "    border-color: transparent;\n",
              "    border-bottom-color: var(--fill-color);\n",
              "    animation:\n",
              "      spin 1s steps(1) infinite;\n",
              "  }\n",
              "\n",
              "  @keyframes spin {\n",
              "    0% {\n",
              "      border-color: transparent;\n",
              "      border-bottom-color: var(--fill-color);\n",
              "      border-left-color: var(--fill-color);\n",
              "    }\n",
              "    20% {\n",
              "      border-color: transparent;\n",
              "      border-left-color: var(--fill-color);\n",
              "      border-top-color: var(--fill-color);\n",
              "    }\n",
              "    30% {\n",
              "      border-color: transparent;\n",
              "      border-left-color: var(--fill-color);\n",
              "      border-top-color: var(--fill-color);\n",
              "      border-right-color: var(--fill-color);\n",
              "    }\n",
              "    40% {\n",
              "      border-color: transparent;\n",
              "      border-right-color: var(--fill-color);\n",
              "      border-top-color: var(--fill-color);\n",
              "    }\n",
              "    60% {\n",
              "      border-color: transparent;\n",
              "      border-right-color: var(--fill-color);\n",
              "    }\n",
              "    80% {\n",
              "      border-color: transparent;\n",
              "      border-right-color: var(--fill-color);\n",
              "      border-bottom-color: var(--fill-color);\n",
              "    }\n",
              "    90% {\n",
              "      border-color: transparent;\n",
              "      border-bottom-color: var(--fill-color);\n",
              "    }\n",
              "  }\n",
              "</style>\n",
              "\n",
              "  <script>\n",
              "    async function quickchart(key) {\n",
              "      const quickchartButtonEl =\n",
              "        document.querySelector('#' + key + ' button');\n",
              "      quickchartButtonEl.disabled = true;  // To prevent multiple clicks.\n",
              "      quickchartButtonEl.classList.add('colab-df-spinner');\n",
              "      try {\n",
              "        const charts = await google.colab.kernel.invokeFunction(\n",
              "            'suggestCharts', [key], {});\n",
              "      } catch (error) {\n",
              "        console.error('Error during call to suggestCharts:', error);\n",
              "      }\n",
              "      quickchartButtonEl.classList.remove('colab-df-spinner');\n",
              "      quickchartButtonEl.classList.add('colab-df-quickchart-complete');\n",
              "    }\n",
              "    (() => {\n",
              "      let quickchartButtonEl =\n",
              "        document.querySelector('#df-e0d0ce47-5c23-480c-8ebf-8defc85a742b button');\n",
              "      quickchartButtonEl.style.display =\n",
              "        google.colab.kernel.accessAllowed ? 'block' : 'none';\n",
              "    })();\n",
              "  </script>\n",
              "</div>\n",
              "\n",
              "    </div>\n",
              "  </div>\n"
            ],
            "application/vnd.google.colaboratory.intrinsic+json": {
              "type": "dataframe",
              "variable_name": "df",
              "summary": "{\n  \"name\": \"df\",\n  \"rows\": 45000,\n  \"fields\": [\n    {\n      \"column\": \"person_age\",\n      \"properties\": {\n        \"dtype\": \"number\",\n        \"std\": 6.045108211348622,\n        \"min\": 20.0,\n        \"max\": 144.0,\n        \"num_unique_values\": 60,\n        \"samples\": [\n          22.0,\n          26.0,\n          53.0\n        ],\n        \"semantic_type\": \"\",\n        \"description\": \"\"\n      }\n    },\n    {\n      \"column\": \"person_gender\",\n      \"properties\": {\n        \"dtype\": \"category\",\n        \"num_unique_values\": 2,\n        \"samples\": [\n          \"male\",\n          \"female\"\n        ],\n        \"semantic_type\": \"\",\n        \"description\": \"\"\n      }\n    },\n    {\n      \"column\": \"person_education\",\n      \"properties\": {\n        \"dtype\": \"category\",\n        \"num_unique_values\": 5,\n        \"samples\": [\n          \"High School\",\n          \"Doctorate\"\n        ],\n        \"semantic_type\": \"\",\n        \"description\": \"\"\n      }\n    },\n    {\n      \"column\": \"person_income\",\n      \"properties\": {\n        \"dtype\": \"number\",\n        \"std\": 80422.49863189556,\n        \"min\": 8000.0,\n        \"max\": 7200766.0,\n        \"num_unique_values\": 33989,\n        \"samples\": [\n          48967.0,\n          31001.0\n        ],\n        \"semantic_type\": \"\",\n        \"description\": \"\"\n      }\n    },\n    {\n      \"column\": \"person_emp_exp\",\n      \"properties\": {\n        \"dtype\": \"number\",\n        \"std\": 6,\n        \"min\": 0,\n        \"max\": 125,\n        \"num_unique_values\": 63,\n        \"samples\": [\n          93,\n          76\n        ],\n        \"semantic_type\": \"\",\n        \"description\": \"\"\n      }\n    },\n    {\n      \"column\": \"person_home_ownership\",\n      \"properties\": {\n        \"dtype\": \"category\",\n        \"num_unique_values\": 4,\n        \"samples\": [\n          \"OWN\",\n          \"OTHER\"\n        ],\n        \"semantic_type\": \"\",\n        \"description\": \"\"\n      }\n    },\n    {\n      \"column\": \"loan_amnt\",\n      \"properties\": {\n        \"dtype\": \"number\",\n        \"std\": 6314.8866905411405,\n        \"min\": 500.0,\n        \"max\": 35000.0,\n        \"num_unique_values\": 4483,\n        \"samples\": [\n          5800.0,\n          28338.0\n        ],\n        \"semantic_type\": \"\",\n        \"description\": \"\"\n      }\n    },\n    {\n      \"column\": \"loan_intent\",\n      \"properties\": {\n        \"dtype\": \"category\",\n        \"num_unique_values\": 6,\n        \"samples\": [\n          \"PERSONAL\",\n          \"EDUCATION\"\n        ],\n        \"semantic_type\": \"\",\n        \"description\": \"\"\n      }\n    },\n    {\n      \"column\": \"loan_int_rate\",\n      \"properties\": {\n        \"dtype\": \"number\",\n        \"std\": 2.9788082802254734,\n        \"min\": 5.42,\n        \"max\": 20.0,\n        \"num_unique_values\": 1302,\n        \"samples\": [\n          15.0,\n          13.45\n        ],\n        \"semantic_type\": \"\",\n        \"description\": \"\"\n      }\n    },\n    {\n      \"column\": \"loan_percent_income\",\n      \"properties\": {\n        \"dtype\": \"number\",\n        \"std\": 0.08721230801403355,\n        \"min\": 0.0,\n        \"max\": 0.66,\n        \"num_unique_values\": 64,\n        \"samples\": [\n          0.45,\n          0.54\n        ],\n        \"semantic_type\": \"\",\n        \"description\": \"\"\n      }\n    },\n    {\n      \"column\": \"cb_person_cred_hist_length\",\n      \"properties\": {\n        \"dtype\": \"number\",\n        \"std\": 3.8797018451620433,\n        \"min\": 2.0,\n        \"max\": 30.0,\n        \"num_unique_values\": 29,\n        \"samples\": [\n          24.0,\n          25.0\n        ],\n        \"semantic_type\": \"\",\n        \"description\": \"\"\n      }\n    },\n    {\n      \"column\": \"credit_score\",\n      \"properties\": {\n        \"dtype\": \"number\",\n        \"std\": 50,\n        \"min\": 390,\n        \"max\": 850,\n        \"num_unique_values\": 340,\n        \"samples\": [\n          492,\n          484\n        ],\n        \"semantic_type\": \"\",\n        \"description\": \"\"\n      }\n    },\n    {\n      \"column\": \"previous_loan_defaults_on_file\",\n      \"properties\": {\n        \"dtype\": \"category\",\n        \"num_unique_values\": 2,\n        \"samples\": [\n          \"Yes\",\n          \"No\"\n        ],\n        \"semantic_type\": \"\",\n        \"description\": \"\"\n      }\n    },\n    {\n      \"column\": \"loan_status\",\n      \"properties\": {\n        \"dtype\": \"number\",\n        \"std\": 0,\n        \"min\": 0,\n        \"max\": 1,\n        \"num_unique_values\": 2,\n        \"samples\": [\n          0,\n          1\n        ],\n        \"semantic_type\": \"\",\n        \"description\": \"\"\n      }\n    }\n  ]\n}"
            }
          },
          "metadata": {},
          "execution_count": 3
        }
      ],
      "source": [
        "df.head()"
      ]
    },
    {
      "cell_type": "code",
      "execution_count": null,
      "metadata": {
        "colab": {
          "base_uri": "https://localhost:8080/"
        },
        "id": "FJ-2YqrtRW_u",
        "outputId": "737d697b-39db-4644-9121-ad467f05e1d7"
      },
      "outputs": [
        {
          "output_type": "stream",
          "name": "stdout",
          "text": [
            "<class 'pandas.core.frame.DataFrame'>\n",
            "RangeIndex: 45000 entries, 0 to 44999\n",
            "Data columns (total 14 columns):\n",
            " #   Column                          Non-Null Count  Dtype  \n",
            "---  ------                          --------------  -----  \n",
            " 0   person_age                      45000 non-null  float64\n",
            " 1   person_gender                   45000 non-null  object \n",
            " 2   person_education                45000 non-null  object \n",
            " 3   person_income                   45000 non-null  float64\n",
            " 4   person_emp_exp                  45000 non-null  int64  \n",
            " 5   person_home_ownership           45000 non-null  object \n",
            " 6   loan_amnt                       45000 non-null  float64\n",
            " 7   loan_intent                     45000 non-null  object \n",
            " 8   loan_int_rate                   45000 non-null  float64\n",
            " 9   loan_percent_income             45000 non-null  float64\n",
            " 10  cb_person_cred_hist_length      45000 non-null  float64\n",
            " 11  credit_score                    45000 non-null  int64  \n",
            " 12  previous_loan_defaults_on_file  45000 non-null  object \n",
            " 13  loan_status                     45000 non-null  int64  \n",
            "dtypes: float64(6), int64(3), object(5)\n",
            "memory usage: 4.8+ MB\n"
          ]
        }
      ],
      "source": [
        "df.info()"
      ]
    },
    {
      "cell_type": "code",
      "execution_count": null,
      "metadata": {
        "colab": {
          "base_uri": "https://localhost:8080/",
          "height": 523
        },
        "id": "8e8TOEGcy7St",
        "outputId": "65211add-6f33-4a26-8f3b-71a32b6741a2"
      },
      "outputs": [
        {
          "output_type": "execute_result",
          "data": {
            "text/plain": [
              "person_age                        float64\n",
              "person_gender                      object\n",
              "person_education                   object\n",
              "person_income                     float64\n",
              "person_emp_exp                      int64\n",
              "person_home_ownership              object\n",
              "loan_amnt                         float64\n",
              "loan_intent                        object\n",
              "loan_int_rate                     float64\n",
              "loan_percent_income               float64\n",
              "cb_person_cred_hist_length        float64\n",
              "credit_score                        int64\n",
              "previous_loan_defaults_on_file     object\n",
              "loan_status                         int64\n",
              "dtype: object"
            ],
            "text/html": [
              "<div>\n",
              "<style scoped>\n",
              "    .dataframe tbody tr th:only-of-type {\n",
              "        vertical-align: middle;\n",
              "    }\n",
              "\n",
              "    .dataframe tbody tr th {\n",
              "        vertical-align: top;\n",
              "    }\n",
              "\n",
              "    .dataframe thead th {\n",
              "        text-align: right;\n",
              "    }\n",
              "</style>\n",
              "<table border=\"1\" class=\"dataframe\">\n",
              "  <thead>\n",
              "    <tr style=\"text-align: right;\">\n",
              "      <th></th>\n",
              "      <th>0</th>\n",
              "    </tr>\n",
              "  </thead>\n",
              "  <tbody>\n",
              "    <tr>\n",
              "      <th>person_age</th>\n",
              "      <td>float64</td>\n",
              "    </tr>\n",
              "    <tr>\n",
              "      <th>person_gender</th>\n",
              "      <td>object</td>\n",
              "    </tr>\n",
              "    <tr>\n",
              "      <th>person_education</th>\n",
              "      <td>object</td>\n",
              "    </tr>\n",
              "    <tr>\n",
              "      <th>person_income</th>\n",
              "      <td>float64</td>\n",
              "    </tr>\n",
              "    <tr>\n",
              "      <th>person_emp_exp</th>\n",
              "      <td>int64</td>\n",
              "    </tr>\n",
              "    <tr>\n",
              "      <th>person_home_ownership</th>\n",
              "      <td>object</td>\n",
              "    </tr>\n",
              "    <tr>\n",
              "      <th>loan_amnt</th>\n",
              "      <td>float64</td>\n",
              "    </tr>\n",
              "    <tr>\n",
              "      <th>loan_intent</th>\n",
              "      <td>object</td>\n",
              "    </tr>\n",
              "    <tr>\n",
              "      <th>loan_int_rate</th>\n",
              "      <td>float64</td>\n",
              "    </tr>\n",
              "    <tr>\n",
              "      <th>loan_percent_income</th>\n",
              "      <td>float64</td>\n",
              "    </tr>\n",
              "    <tr>\n",
              "      <th>cb_person_cred_hist_length</th>\n",
              "      <td>float64</td>\n",
              "    </tr>\n",
              "    <tr>\n",
              "      <th>credit_score</th>\n",
              "      <td>int64</td>\n",
              "    </tr>\n",
              "    <tr>\n",
              "      <th>previous_loan_defaults_on_file</th>\n",
              "      <td>object</td>\n",
              "    </tr>\n",
              "    <tr>\n",
              "      <th>loan_status</th>\n",
              "      <td>int64</td>\n",
              "    </tr>\n",
              "  </tbody>\n",
              "</table>\n",
              "</div><br><label><b>dtype:</b> object</label>"
            ]
          },
          "metadata": {},
          "execution_count": 5
        }
      ],
      "source": [
        "df.dtypes"
      ]
    },
    {
      "cell_type": "code",
      "execution_count": null,
      "metadata": {
        "colab": {
          "base_uri": "https://localhost:8080/"
        },
        "id": "wFSeobayy7Ia",
        "outputId": "20453f33-34b7-4e09-da3d-320394c78fb7"
      },
      "outputs": [
        {
          "output_type": "execute_result",
          "data": {
            "text/plain": [
              "Index(['person_age', 'person_gender', 'person_education', 'person_income',\n",
              "       'person_emp_exp', 'person_home_ownership', 'loan_amnt', 'loan_intent',\n",
              "       'loan_int_rate', 'loan_percent_income', 'cb_person_cred_hist_length',\n",
              "       'credit_score', 'previous_loan_defaults_on_file', 'loan_status'],\n",
              "      dtype='object')"
            ]
          },
          "metadata": {},
          "execution_count": 6
        }
      ],
      "source": [
        "df.columns"
      ]
    },
    {
      "cell_type": "code",
      "execution_count": null,
      "metadata": {
        "colab": {
          "base_uri": "https://localhost:8080/",
          "height": 523
        },
        "id": "ASQj7WczRkad",
        "outputId": "49ecabe7-cb9a-4b84-83fc-9240a13099e3"
      },
      "outputs": [
        {
          "output_type": "execute_result",
          "data": {
            "text/plain": [
              "person_age                        0\n",
              "person_gender                     0\n",
              "person_education                  0\n",
              "person_income                     0\n",
              "person_emp_exp                    0\n",
              "person_home_ownership             0\n",
              "loan_amnt                         0\n",
              "loan_intent                       0\n",
              "loan_int_rate                     0\n",
              "loan_percent_income               0\n",
              "cb_person_cred_hist_length        0\n",
              "credit_score                      0\n",
              "previous_loan_defaults_on_file    0\n",
              "loan_status                       0\n",
              "dtype: int64"
            ],
            "text/html": [
              "<div>\n",
              "<style scoped>\n",
              "    .dataframe tbody tr th:only-of-type {\n",
              "        vertical-align: middle;\n",
              "    }\n",
              "\n",
              "    .dataframe tbody tr th {\n",
              "        vertical-align: top;\n",
              "    }\n",
              "\n",
              "    .dataframe thead th {\n",
              "        text-align: right;\n",
              "    }\n",
              "</style>\n",
              "<table border=\"1\" class=\"dataframe\">\n",
              "  <thead>\n",
              "    <tr style=\"text-align: right;\">\n",
              "      <th></th>\n",
              "      <th>0</th>\n",
              "    </tr>\n",
              "  </thead>\n",
              "  <tbody>\n",
              "    <tr>\n",
              "      <th>person_age</th>\n",
              "      <td>0</td>\n",
              "    </tr>\n",
              "    <tr>\n",
              "      <th>person_gender</th>\n",
              "      <td>0</td>\n",
              "    </tr>\n",
              "    <tr>\n",
              "      <th>person_education</th>\n",
              "      <td>0</td>\n",
              "    </tr>\n",
              "    <tr>\n",
              "      <th>person_income</th>\n",
              "      <td>0</td>\n",
              "    </tr>\n",
              "    <tr>\n",
              "      <th>person_emp_exp</th>\n",
              "      <td>0</td>\n",
              "    </tr>\n",
              "    <tr>\n",
              "      <th>person_home_ownership</th>\n",
              "      <td>0</td>\n",
              "    </tr>\n",
              "    <tr>\n",
              "      <th>loan_amnt</th>\n",
              "      <td>0</td>\n",
              "    </tr>\n",
              "    <tr>\n",
              "      <th>loan_intent</th>\n",
              "      <td>0</td>\n",
              "    </tr>\n",
              "    <tr>\n",
              "      <th>loan_int_rate</th>\n",
              "      <td>0</td>\n",
              "    </tr>\n",
              "    <tr>\n",
              "      <th>loan_percent_income</th>\n",
              "      <td>0</td>\n",
              "    </tr>\n",
              "    <tr>\n",
              "      <th>cb_person_cred_hist_length</th>\n",
              "      <td>0</td>\n",
              "    </tr>\n",
              "    <tr>\n",
              "      <th>credit_score</th>\n",
              "      <td>0</td>\n",
              "    </tr>\n",
              "    <tr>\n",
              "      <th>previous_loan_defaults_on_file</th>\n",
              "      <td>0</td>\n",
              "    </tr>\n",
              "    <tr>\n",
              "      <th>loan_status</th>\n",
              "      <td>0</td>\n",
              "    </tr>\n",
              "  </tbody>\n",
              "</table>\n",
              "</div><br><label><b>dtype:</b> int64</label>"
            ]
          },
          "metadata": {},
          "execution_count": 7
        }
      ],
      "source": [
        "df.isnull().sum()"
      ]
    },
    {
      "cell_type": "code",
      "execution_count": null,
      "metadata": {
        "colab": {
          "base_uri": "https://localhost:8080/"
        },
        "id": "oZ1_3WO5RqRk",
        "outputId": "a0cce4ef-7b0f-40fd-d946-23ecbab2809b"
      },
      "outputs": [
        {
          "output_type": "execute_result",
          "data": {
            "text/plain": [
              "0"
            ]
          },
          "metadata": {},
          "execution_count": 8
        }
      ],
      "source": [
        "df.duplicated().sum()"
      ]
    },
    {
      "cell_type": "code",
      "execution_count": null,
      "metadata": {
        "colab": {
          "base_uri": "https://localhost:8080/"
        },
        "collapsed": true,
        "id": "GcnWDAuOzi2y",
        "outputId": "8d0b6f21-95dc-4505-ac67-4c52ddf09dc9"
      },
      "outputs": [
        {
          "output_type": "stream",
          "name": "stdout",
          "text": [
            "[ 22.  21.  25.  23.  24.  26. 144. 123.  20.  32.  34.  29.  33.  28.\n",
            "  35.  31.  27.  30.  36.  40.  50.  45.  37.  39.  44.  43.  41.  46.\n",
            "  38.  47.  42.  48.  49.  58.  65.  51.  53.  66.  61.  54.  57.  59.\n",
            "  62.  60.  55.  52.  64.  70.  78.  69.  56.  73.  63.  94.  80.  84.\n",
            "  76.  67. 116. 109.] person_age\n",
            "**********************************************************************************************************************************************************************************************************************************************************\n",
            "person_age\n",
            "23.0     5254\n",
            "24.0     5138\n",
            "25.0     4507\n",
            "22.0     4236\n",
            "26.0     3659\n",
            "27.0     3095\n",
            "28.0     2728\n",
            "29.0     2455\n",
            "30.0     2021\n",
            "31.0     1645\n",
            "32.0     1403\n",
            "21.0     1289\n",
            "33.0     1240\n",
            "34.0      980\n",
            "35.0      847\n",
            "36.0      740\n",
            "37.0      666\n",
            "38.0      503\n",
            "39.0      389\n",
            "40.0      349\n",
            "41.0      303\n",
            "42.0      247\n",
            "43.0      215\n",
            "44.0      177\n",
            "45.0      135\n",
            "46.0      114\n",
            "47.0      112\n",
            "48.0       93\n",
            "49.0       59\n",
            "50.0       56\n",
            "51.0       46\n",
            "52.0       42\n",
            "53.0       35\n",
            "54.0       24\n",
            "55.0       24\n",
            "58.0       20\n",
            "56.0       20\n",
            "57.0       17\n",
            "20.0       17\n",
            "60.0       16\n",
            "61.0       12\n",
            "66.0       11\n",
            "65.0       10\n",
            "70.0        7\n",
            "64.0        7\n",
            "62.0        7\n",
            "59.0        6\n",
            "69.0        5\n",
            "144.0       3\n",
            "73.0        3\n",
            "63.0        3\n",
            "123.0       2\n",
            "78.0        1\n",
            "94.0        1\n",
            "80.0        1\n",
            "84.0        1\n",
            "76.0        1\n",
            "67.0        1\n",
            "116.0       1\n",
            "109.0       1\n",
            "Name: count, dtype: int64 person_age\n",
            "**********************************************************************************************************************************************************************************************************************************************************\n",
            "['female' 'male'] person_gender\n",
            "**********************************************************************************************************************************************************************************************************************************************************\n",
            "person_gender\n",
            "male      24841\n",
            "female    20159\n",
            "Name: count, dtype: int64 person_gender\n",
            "**********************************************************************************************************************************************************************************************************************************************************\n",
            "['Master' 'High School' 'Bachelor' 'Associate' 'Doctorate'] person_education\n",
            "**********************************************************************************************************************************************************************************************************************************************************\n",
            "person_education\n",
            "Bachelor       13399\n",
            "Associate      12028\n",
            "High School    11972\n",
            "Master          6980\n",
            "Doctorate        621\n",
            "Name: count, dtype: int64 person_education\n",
            "**********************************************************************************************************************************************************************************************************************************************************\n",
            "[71948. 12282. 12438. ... 31924. 56942. 33164.] person_income\n",
            "**********************************************************************************************************************************************************************************************************************************************************\n",
            "person_income\n",
            "8000.0      15\n",
            "73011.0     10\n",
            "36995.0      9\n",
            "60914.0      8\n",
            "37020.0      8\n",
            "            ..\n",
            "259923.0     1\n",
            "40186.0      1\n",
            "69485.0      1\n",
            "50351.0      1\n",
            "33164.0      1\n",
            "Name: count, Length: 33989, dtype: int64 person_income\n",
            "**********************************************************************************************************************************************************************************************************************************************************\n",
            "[  0   3   1   5   4   2   7   6 125   8 121 101 100  12  10   9  14  13\n",
            "  11  15  16  17  19  28  25  18  24  22  20  23  21  31  26  27  29  32\n",
            "  30 124  40  43  33  44  34  42  37  45  36  41  47  38  39  35  57  46\n",
            "  49  48  50  76  62  61  58  93  85] person_emp_exp\n",
            "**********************************************************************************************************************************************************************************************************************************************************\n",
            "person_emp_exp\n",
            "0      9566\n",
            "2      4134\n",
            "1      4061\n",
            "3      3890\n",
            "4      3524\n",
            "       ... \n",
            "101       1\n",
            "124       1\n",
            "125       1\n",
            "121       1\n",
            "85        1\n",
            "Name: count, Length: 63, dtype: int64 person_emp_exp\n",
            "**********************************************************************************************************************************************************************************************************************************************************\n",
            "['RENT' 'OWN' 'MORTGAGE' 'OTHER'] person_home_ownership\n",
            "**********************************************************************************************************************************************************************************************************************************************************\n",
            "person_home_ownership\n",
            "RENT        23443\n",
            "MORTGAGE    18489\n",
            "OWN          2951\n",
            "OTHER         117\n",
            "Name: count, dtype: int64 person_home_ownership\n",
            "**********************************************************************************************************************************************************************************************************************************************************\n",
            "[35000.  1000.  5500. ... 12229.  2771.  6665.] loan_amnt\n",
            "**********************************************************************************************************************************************************************************************************************************************************\n",
            "loan_amnt\n",
            "10000.0    3617\n",
            "5000.0     2787\n",
            "6000.0     2426\n",
            "12000.0    2416\n",
            "15000.0    2004\n",
            "           ... \n",
            "9135.0        1\n",
            "8389.0        1\n",
            "7583.0        1\n",
            "13069.0       1\n",
            "6665.0        1\n",
            "Name: count, Length: 4483, dtype: int64 loan_amnt\n",
            "**********************************************************************************************************************************************************************************************************************************************************\n",
            "['PERSONAL' 'EDUCATION' 'MEDICAL' 'VENTURE' 'HOMEIMPROVEMENT'\n",
            " 'DEBTCONSOLIDATION'] loan_intent\n",
            "**********************************************************************************************************************************************************************************************************************************************************\n",
            "loan_intent\n",
            "EDUCATION            9153\n",
            "MEDICAL              8548\n",
            "VENTURE              7819\n",
            "PERSONAL             7552\n",
            "DEBTCONSOLIDATION    7145\n",
            "HOMEIMPROVEMENT      4783\n",
            "Name: count, dtype: int64 loan_intent\n",
            "**********************************************************************************************************************************************************************************************************************************************************\n",
            "[16.02 11.14 12.87 ... 19.11 19.8  16.92] loan_int_rate\n",
            "**********************************************************************************************************************************************************************************************************************************************************\n",
            "loan_int_rate\n",
            "11.01    3329\n",
            "10.99     804\n",
            "7.51      798\n",
            "7.49      687\n",
            "7.88      673\n",
            "         ... \n",
            "16.20       1\n",
            "18.44       1\n",
            "19.39       1\n",
            "18.68       1\n",
            "16.92       1\n",
            "Name: count, Length: 1302, dtype: int64 loan_int_rate\n",
            "**********************************************************************************************************************************************************************************************************************************************************\n",
            "[0.49 0.08 0.44 0.53 0.19 0.37 0.35 0.13 0.34 0.3  0.27 0.25 0.05 0.24\n",
            " 0.31 0.26 0.12 0.18 0.21 0.43 0.11 0.4  0.32 0.1  0.41 0.22 0.07 0.02\n",
            " 0.17 0.51 0.38 0.33 0.06 0.03 0.28 0.04 0.09 0.2  0.23 0.15 0.48 0.5\n",
            " 0.14 0.42 0.01 0.46 0.29 0.39 0.36 0.16 0.   0.57 0.45 0.52 0.55 0.61\n",
            " 0.62 0.66 0.54 0.47 0.56 0.58 0.63 0.59] loan_percent_income\n",
            "**********************************************************************************************************************************************************************************************************************************************************\n",
            "loan_percent_income\n",
            "0.08    2593\n",
            "0.10    2421\n",
            "0.07    2415\n",
            "0.09    2295\n",
            "0.06    2242\n",
            "        ... \n",
            "0.57       1\n",
            "0.66       1\n",
            "0.58       1\n",
            "0.63       1\n",
            "0.59       1\n",
            "Name: count, Length: 64, dtype: int64 loan_percent_income\n",
            "**********************************************************************************************************************************************************************************************************************************************************\n",
            "[ 3.  2.  4.  8.  7.  6.  9. 10.  5. 11. 16. 15. 12. 13. 17. 14. 25. 28.\n",
            " 27. 22. 19. 29. 23. 26. 20. 21. 30. 24. 18.] cb_person_cred_hist_length\n",
            "**********************************************************************************************************************************************************************************************************************************************************\n",
            "cb_person_cred_hist_length\n",
            "4.0     8653\n",
            "3.0     8312\n",
            "2.0     6537\n",
            "5.0     3082\n",
            "6.0     2966\n",
            "7.0     2889\n",
            "8.0     2800\n",
            "9.0     2685\n",
            "10.0    2457\n",
            "12.0     715\n",
            "11.0     712\n",
            "14.0     644\n",
            "13.0     625\n",
            "15.0     557\n",
            "16.0     542\n",
            "17.0     469\n",
            "20.0      43\n",
            "24.0      34\n",
            "18.0      34\n",
            "22.0      32\n",
            "28.0      29\n",
            "19.0      29\n",
            "23.0      26\n",
            "21.0      24\n",
            "25.0      23\n",
            "27.0      23\n",
            "30.0      23\n",
            "26.0      20\n",
            "29.0      15\n",
            "Name: count, dtype: int64 cb_person_cred_hist_length\n",
            "**********************************************************************************************************************************************************************************************************************************************************\n",
            "[561 504 635 675 586 532 701 585 544 640 621 651 573 708 583 670 663 694\n",
            " 709 679 684 662 691 600 654 626 607 700 553 589 681 567 669 606 582 649\n",
            " 602 616 631 637 695 620 622 645 624 570 648 652 559 623 609 579 688 661\n",
            " 562 664 564 598 557 677 690 599 604 601 634 671 789 538 587 683 518 617\n",
            " 668 673 706 536 689 595 584 642 614 597 625 603 643 508 505 593 686 646\n",
            " 697 615 687 650 588 658 531 665 703 594 618 574 577 653 630 660 639 612\n",
            " 628 592 580 678 672 613 566 718 484 699 656 659 636 554 807 578 674 608\n",
            " 569 629 560 548 667 676 581 655 551 529 666 576 633 611 657 647 542 692\n",
            " 545 540 525 537 641 539 563 712 491 590 572 528 638 627 596 547 507 565\n",
            " 693 522 632 556 499 704 503 714 552 555 558 521 605 571 591 719 610 535\n",
            " 644 523 546 702 711 534 805 682 447 725 680 568 524 710 707 619 460 696\n",
            " 527 511 477 575 496 685 476 502 541 722 506 487 530 515 513 520 724 514\n",
            " 501 549 720 486 716 465 509 517 444 482 698 443 512 526 454 550 462 717\n",
            " 727 715 543 448 713 721 481 723 533 705 483 740 495 459 489 519 494 498\n",
            " 488 468 490 479 510 472 480 421 473 500 493 441 485 450 467 461 475 463\n",
            " 728 735 458 456 726 729 750 455 478 453 445 431 737 497 492 437 516 451\n",
            " 434 435 439 466 440 449 469 471 730 470 734 751 739 736 738 733 732 731\n",
            " 741 748 744 762 742 745 743 464 390 755 747 759 746 756 753 764 850 760\n",
            " 754 770 784 773 765 772 419 474 430 418 420 792 768 457 446 767] credit_score\n",
            "**********************************************************************************************************************************************************************************************************************************************************\n",
            "credit_score\n",
            "658    406\n",
            "649    398\n",
            "652    396\n",
            "663    394\n",
            "647    393\n",
            "      ... \n",
            "805      1\n",
            "421      1\n",
            "807      1\n",
            "789      1\n",
            "767      1\n",
            "Name: count, Length: 340, dtype: int64 credit_score\n",
            "**********************************************************************************************************************************************************************************************************************************************************\n",
            "['No' 'Yes'] previous_loan_defaults_on_file\n",
            "**********************************************************************************************************************************************************************************************************************************************************\n",
            "previous_loan_defaults_on_file\n",
            "Yes    22858\n",
            "No     22142\n",
            "Name: count, dtype: int64 previous_loan_defaults_on_file\n",
            "**********************************************************************************************************************************************************************************************************************************************************\n",
            "[1 0] loan_status\n",
            "**********************************************************************************************************************************************************************************************************************************************************\n",
            "loan_status\n",
            "0    35000\n",
            "1    10000\n",
            "Name: count, dtype: int64 loan_status\n",
            "**********************************************************************************************************************************************************************************************************************************************************\n"
          ]
        }
      ],
      "source": [
        "for i in df.columns:\n",
        "  print(df[i].unique(),i)\n",
        "  print(\"*\"*250)\n",
        "  print(df[i].value_counts(),i)\n",
        "  print(\"*\"*250)"
      ]
    },
    {
      "cell_type": "code",
      "execution_count": null,
      "metadata": {
        "colab": {
          "base_uri": "https://localhost:8080/"
        },
        "id": "JvLpc9771Pgj",
        "outputId": "8cf7f803-ca13-4b8b-af22-e7f5babad461"
      },
      "outputs": [
        {
          "output_type": "stream",
          "name": "stderr",
          "text": [
            "<ipython-input-10-f92ae3afe979>:1: FutureWarning: Downcasting behavior in `replace` is deprecated and will be removed in a future version. To retain the old behavior, explicitly call `result.infer_objects(copy=False)`. To opt-in to the future behavior, set `pd.set_option('future.no_silent_downcasting', True)`\n",
            "  df['previous_loan_defaults_on_file'] = df['previous_loan_defaults_on_file'].replace({'Yes':0,'No':1})\n"
          ]
        }
      ],
      "source": [
        "df['previous_loan_defaults_on_file'] = df['previous_loan_defaults_on_file'].replace({'Yes':0,'No':1})"
      ]
    },
    {
      "cell_type": "code",
      "execution_count": null,
      "metadata": {
        "colab": {
          "base_uri": "https://localhost:8080/",
          "height": 443
        },
        "id": "5NhG4Lbk10kr",
        "outputId": "4d2440d7-955f-432d-b24f-34fc8d2e3853"
      },
      "outputs": [
        {
          "output_type": "execute_result",
          "data": {
            "text/plain": [
              "       person_age person_gender person_education  person_income  \\\n",
              "0            22.0        female           Master        71948.0   \n",
              "1            21.0        female      High School        12282.0   \n",
              "2            25.0        female      High School        12438.0   \n",
              "3            23.0        female         Bachelor        79753.0   \n",
              "4            24.0          male           Master        66135.0   \n",
              "...           ...           ...              ...            ...   \n",
              "44995        27.0          male        Associate        47971.0   \n",
              "44996        37.0        female        Associate        65800.0   \n",
              "44997        33.0          male        Associate        56942.0   \n",
              "44998        29.0          male         Bachelor        33164.0   \n",
              "44999        24.0          male      High School        51609.0   \n",
              "\n",
              "       person_emp_exp person_home_ownership  loan_amnt        loan_intent  \\\n",
              "0                   0                  RENT    35000.0           PERSONAL   \n",
              "1                   0                   OWN     1000.0          EDUCATION   \n",
              "2                   3              MORTGAGE     5500.0            MEDICAL   \n",
              "3                   0                  RENT    35000.0            MEDICAL   \n",
              "4                   1                  RENT    35000.0            MEDICAL   \n",
              "...               ...                   ...        ...                ...   \n",
              "44995               6                  RENT    15000.0            MEDICAL   \n",
              "44996              17                  RENT     9000.0    HOMEIMPROVEMENT   \n",
              "44997               7                  RENT     2771.0  DEBTCONSOLIDATION   \n",
              "44998               4                  RENT    12000.0          EDUCATION   \n",
              "44999               1                  RENT     6665.0  DEBTCONSOLIDATION   \n",
              "\n",
              "       loan_int_rate  loan_percent_income  cb_person_cred_hist_length  \\\n",
              "0              16.02                 0.49                         3.0   \n",
              "1              11.14                 0.08                         2.0   \n",
              "2              12.87                 0.44                         3.0   \n",
              "3              15.23                 0.44                         2.0   \n",
              "4              14.27                 0.53                         4.0   \n",
              "...              ...                  ...                         ...   \n",
              "44995          15.66                 0.31                         3.0   \n",
              "44996          14.07                 0.14                        11.0   \n",
              "44997          10.02                 0.05                        10.0   \n",
              "44998          13.23                 0.36                         6.0   \n",
              "44999          17.05                 0.13                         3.0   \n",
              "\n",
              "       credit_score  previous_loan_defaults_on_file  loan_status  \n",
              "0               561                               1            1  \n",
              "1               504                               0            0  \n",
              "2               635                               1            1  \n",
              "3               675                               1            1  \n",
              "4               586                               1            1  \n",
              "...             ...                             ...          ...  \n",
              "44995           645                               1            1  \n",
              "44996           621                               1            1  \n",
              "44997           668                               1            1  \n",
              "44998           604                               1            1  \n",
              "44999           628                               1            1  \n",
              "\n",
              "[45000 rows x 14 columns]"
            ],
            "text/html": [
              "\n",
              "  <div id=\"df-b0c0a8f9-35f2-4a4d-8d32-4294733c97fa\" class=\"colab-df-container\">\n",
              "    <div>\n",
              "<style scoped>\n",
              "    .dataframe tbody tr th:only-of-type {\n",
              "        vertical-align: middle;\n",
              "    }\n",
              "\n",
              "    .dataframe tbody tr th {\n",
              "        vertical-align: top;\n",
              "    }\n",
              "\n",
              "    .dataframe thead th {\n",
              "        text-align: right;\n",
              "    }\n",
              "</style>\n",
              "<table border=\"1\" class=\"dataframe\">\n",
              "  <thead>\n",
              "    <tr style=\"text-align: right;\">\n",
              "      <th></th>\n",
              "      <th>person_age</th>\n",
              "      <th>person_gender</th>\n",
              "      <th>person_education</th>\n",
              "      <th>person_income</th>\n",
              "      <th>person_emp_exp</th>\n",
              "      <th>person_home_ownership</th>\n",
              "      <th>loan_amnt</th>\n",
              "      <th>loan_intent</th>\n",
              "      <th>loan_int_rate</th>\n",
              "      <th>loan_percent_income</th>\n",
              "      <th>cb_person_cred_hist_length</th>\n",
              "      <th>credit_score</th>\n",
              "      <th>previous_loan_defaults_on_file</th>\n",
              "      <th>loan_status</th>\n",
              "    </tr>\n",
              "  </thead>\n",
              "  <tbody>\n",
              "    <tr>\n",
              "      <th>0</th>\n",
              "      <td>22.0</td>\n",
              "      <td>female</td>\n",
              "      <td>Master</td>\n",
              "      <td>71948.0</td>\n",
              "      <td>0</td>\n",
              "      <td>RENT</td>\n",
              "      <td>35000.0</td>\n",
              "      <td>PERSONAL</td>\n",
              "      <td>16.02</td>\n",
              "      <td>0.49</td>\n",
              "      <td>3.0</td>\n",
              "      <td>561</td>\n",
              "      <td>1</td>\n",
              "      <td>1</td>\n",
              "    </tr>\n",
              "    <tr>\n",
              "      <th>1</th>\n",
              "      <td>21.0</td>\n",
              "      <td>female</td>\n",
              "      <td>High School</td>\n",
              "      <td>12282.0</td>\n",
              "      <td>0</td>\n",
              "      <td>OWN</td>\n",
              "      <td>1000.0</td>\n",
              "      <td>EDUCATION</td>\n",
              "      <td>11.14</td>\n",
              "      <td>0.08</td>\n",
              "      <td>2.0</td>\n",
              "      <td>504</td>\n",
              "      <td>0</td>\n",
              "      <td>0</td>\n",
              "    </tr>\n",
              "    <tr>\n",
              "      <th>2</th>\n",
              "      <td>25.0</td>\n",
              "      <td>female</td>\n",
              "      <td>High School</td>\n",
              "      <td>12438.0</td>\n",
              "      <td>3</td>\n",
              "      <td>MORTGAGE</td>\n",
              "      <td>5500.0</td>\n",
              "      <td>MEDICAL</td>\n",
              "      <td>12.87</td>\n",
              "      <td>0.44</td>\n",
              "      <td>3.0</td>\n",
              "      <td>635</td>\n",
              "      <td>1</td>\n",
              "      <td>1</td>\n",
              "    </tr>\n",
              "    <tr>\n",
              "      <th>3</th>\n",
              "      <td>23.0</td>\n",
              "      <td>female</td>\n",
              "      <td>Bachelor</td>\n",
              "      <td>79753.0</td>\n",
              "      <td>0</td>\n",
              "      <td>RENT</td>\n",
              "      <td>35000.0</td>\n",
              "      <td>MEDICAL</td>\n",
              "      <td>15.23</td>\n",
              "      <td>0.44</td>\n",
              "      <td>2.0</td>\n",
              "      <td>675</td>\n",
              "      <td>1</td>\n",
              "      <td>1</td>\n",
              "    </tr>\n",
              "    <tr>\n",
              "      <th>4</th>\n",
              "      <td>24.0</td>\n",
              "      <td>male</td>\n",
              "      <td>Master</td>\n",
              "      <td>66135.0</td>\n",
              "      <td>1</td>\n",
              "      <td>RENT</td>\n",
              "      <td>35000.0</td>\n",
              "      <td>MEDICAL</td>\n",
              "      <td>14.27</td>\n",
              "      <td>0.53</td>\n",
              "      <td>4.0</td>\n",
              "      <td>586</td>\n",
              "      <td>1</td>\n",
              "      <td>1</td>\n",
              "    </tr>\n",
              "    <tr>\n",
              "      <th>...</th>\n",
              "      <td>...</td>\n",
              "      <td>...</td>\n",
              "      <td>...</td>\n",
              "      <td>...</td>\n",
              "      <td>...</td>\n",
              "      <td>...</td>\n",
              "      <td>...</td>\n",
              "      <td>...</td>\n",
              "      <td>...</td>\n",
              "      <td>...</td>\n",
              "      <td>...</td>\n",
              "      <td>...</td>\n",
              "      <td>...</td>\n",
              "      <td>...</td>\n",
              "    </tr>\n",
              "    <tr>\n",
              "      <th>44995</th>\n",
              "      <td>27.0</td>\n",
              "      <td>male</td>\n",
              "      <td>Associate</td>\n",
              "      <td>47971.0</td>\n",
              "      <td>6</td>\n",
              "      <td>RENT</td>\n",
              "      <td>15000.0</td>\n",
              "      <td>MEDICAL</td>\n",
              "      <td>15.66</td>\n",
              "      <td>0.31</td>\n",
              "      <td>3.0</td>\n",
              "      <td>645</td>\n",
              "      <td>1</td>\n",
              "      <td>1</td>\n",
              "    </tr>\n",
              "    <tr>\n",
              "      <th>44996</th>\n",
              "      <td>37.0</td>\n",
              "      <td>female</td>\n",
              "      <td>Associate</td>\n",
              "      <td>65800.0</td>\n",
              "      <td>17</td>\n",
              "      <td>RENT</td>\n",
              "      <td>9000.0</td>\n",
              "      <td>HOMEIMPROVEMENT</td>\n",
              "      <td>14.07</td>\n",
              "      <td>0.14</td>\n",
              "      <td>11.0</td>\n",
              "      <td>621</td>\n",
              "      <td>1</td>\n",
              "      <td>1</td>\n",
              "    </tr>\n",
              "    <tr>\n",
              "      <th>44997</th>\n",
              "      <td>33.0</td>\n",
              "      <td>male</td>\n",
              "      <td>Associate</td>\n",
              "      <td>56942.0</td>\n",
              "      <td>7</td>\n",
              "      <td>RENT</td>\n",
              "      <td>2771.0</td>\n",
              "      <td>DEBTCONSOLIDATION</td>\n",
              "      <td>10.02</td>\n",
              "      <td>0.05</td>\n",
              "      <td>10.0</td>\n",
              "      <td>668</td>\n",
              "      <td>1</td>\n",
              "      <td>1</td>\n",
              "    </tr>\n",
              "    <tr>\n",
              "      <th>44998</th>\n",
              "      <td>29.0</td>\n",
              "      <td>male</td>\n",
              "      <td>Bachelor</td>\n",
              "      <td>33164.0</td>\n",
              "      <td>4</td>\n",
              "      <td>RENT</td>\n",
              "      <td>12000.0</td>\n",
              "      <td>EDUCATION</td>\n",
              "      <td>13.23</td>\n",
              "      <td>0.36</td>\n",
              "      <td>6.0</td>\n",
              "      <td>604</td>\n",
              "      <td>1</td>\n",
              "      <td>1</td>\n",
              "    </tr>\n",
              "    <tr>\n",
              "      <th>44999</th>\n",
              "      <td>24.0</td>\n",
              "      <td>male</td>\n",
              "      <td>High School</td>\n",
              "      <td>51609.0</td>\n",
              "      <td>1</td>\n",
              "      <td>RENT</td>\n",
              "      <td>6665.0</td>\n",
              "      <td>DEBTCONSOLIDATION</td>\n",
              "      <td>17.05</td>\n",
              "      <td>0.13</td>\n",
              "      <td>3.0</td>\n",
              "      <td>628</td>\n",
              "      <td>1</td>\n",
              "      <td>1</td>\n",
              "    </tr>\n",
              "  </tbody>\n",
              "</table>\n",
              "<p>45000 rows × 14 columns</p>\n",
              "</div>\n",
              "    <div class=\"colab-df-buttons\">\n",
              "\n",
              "  <div class=\"colab-df-container\">\n",
              "    <button class=\"colab-df-convert\" onclick=\"convertToInteractive('df-b0c0a8f9-35f2-4a4d-8d32-4294733c97fa')\"\n",
              "            title=\"Convert this dataframe to an interactive table.\"\n",
              "            style=\"display:none;\">\n",
              "\n",
              "  <svg xmlns=\"http://www.w3.org/2000/svg\" height=\"24px\" viewBox=\"0 -960 960 960\">\n",
              "    <path d=\"M120-120v-720h720v720H120Zm60-500h600v-160H180v160Zm220 220h160v-160H400v160Zm0 220h160v-160H400v160ZM180-400h160v-160H180v160Zm440 0h160v-160H620v160ZM180-180h160v-160H180v160Zm440 0h160v-160H620v160Z\"/>\n",
              "  </svg>\n",
              "    </button>\n",
              "\n",
              "  <style>\n",
              "    .colab-df-container {\n",
              "      display:flex;\n",
              "      gap: 12px;\n",
              "    }\n",
              "\n",
              "    .colab-df-convert {\n",
              "      background-color: #E8F0FE;\n",
              "      border: none;\n",
              "      border-radius: 50%;\n",
              "      cursor: pointer;\n",
              "      display: none;\n",
              "      fill: #1967D2;\n",
              "      height: 32px;\n",
              "      padding: 0 0 0 0;\n",
              "      width: 32px;\n",
              "    }\n",
              "\n",
              "    .colab-df-convert:hover {\n",
              "      background-color: #E2EBFA;\n",
              "      box-shadow: 0px 1px 2px rgba(60, 64, 67, 0.3), 0px 1px 3px 1px rgba(60, 64, 67, 0.15);\n",
              "      fill: #174EA6;\n",
              "    }\n",
              "\n",
              "    .colab-df-buttons div {\n",
              "      margin-bottom: 4px;\n",
              "    }\n",
              "\n",
              "    [theme=dark] .colab-df-convert {\n",
              "      background-color: #3B4455;\n",
              "      fill: #D2E3FC;\n",
              "    }\n",
              "\n",
              "    [theme=dark] .colab-df-convert:hover {\n",
              "      background-color: #434B5C;\n",
              "      box-shadow: 0px 1px 3px 1px rgba(0, 0, 0, 0.15);\n",
              "      filter: drop-shadow(0px 1px 2px rgba(0, 0, 0, 0.3));\n",
              "      fill: #FFFFFF;\n",
              "    }\n",
              "  </style>\n",
              "\n",
              "    <script>\n",
              "      const buttonEl =\n",
              "        document.querySelector('#df-b0c0a8f9-35f2-4a4d-8d32-4294733c97fa button.colab-df-convert');\n",
              "      buttonEl.style.display =\n",
              "        google.colab.kernel.accessAllowed ? 'block' : 'none';\n",
              "\n",
              "      async function convertToInteractive(key) {\n",
              "        const element = document.querySelector('#df-b0c0a8f9-35f2-4a4d-8d32-4294733c97fa');\n",
              "        const dataTable =\n",
              "          await google.colab.kernel.invokeFunction('convertToInteractive',\n",
              "                                                    [key], {});\n",
              "        if (!dataTable) return;\n",
              "\n",
              "        const docLinkHtml = 'Like what you see? Visit the ' +\n",
              "          '<a target=\"_blank\" href=https://colab.research.google.com/notebooks/data_table.ipynb>data table notebook</a>'\n",
              "          + ' to learn more about interactive tables.';\n",
              "        element.innerHTML = '';\n",
              "        dataTable['output_type'] = 'display_data';\n",
              "        await google.colab.output.renderOutput(dataTable, element);\n",
              "        const docLink = document.createElement('div');\n",
              "        docLink.innerHTML = docLinkHtml;\n",
              "        element.appendChild(docLink);\n",
              "      }\n",
              "    </script>\n",
              "  </div>\n",
              "\n",
              "\n",
              "<div id=\"df-c28fa876-1a0e-4d11-9278-7dbac12098d3\">\n",
              "  <button class=\"colab-df-quickchart\" onclick=\"quickchart('df-c28fa876-1a0e-4d11-9278-7dbac12098d3')\"\n",
              "            title=\"Suggest charts\"\n",
              "            style=\"display:none;\">\n",
              "\n",
              "<svg xmlns=\"http://www.w3.org/2000/svg\" height=\"24px\"viewBox=\"0 0 24 24\"\n",
              "     width=\"24px\">\n",
              "    <g>\n",
              "        <path d=\"M19 3H5c-1.1 0-2 .9-2 2v14c0 1.1.9 2 2 2h14c1.1 0 2-.9 2-2V5c0-1.1-.9-2-2-2zM9 17H7v-7h2v7zm4 0h-2V7h2v10zm4 0h-2v-4h2v4z\"/>\n",
              "    </g>\n",
              "</svg>\n",
              "  </button>\n",
              "\n",
              "<style>\n",
              "  .colab-df-quickchart {\n",
              "      --bg-color: #E8F0FE;\n",
              "      --fill-color: #1967D2;\n",
              "      --hover-bg-color: #E2EBFA;\n",
              "      --hover-fill-color: #174EA6;\n",
              "      --disabled-fill-color: #AAA;\n",
              "      --disabled-bg-color: #DDD;\n",
              "  }\n",
              "\n",
              "  [theme=dark] .colab-df-quickchart {\n",
              "      --bg-color: #3B4455;\n",
              "      --fill-color: #D2E3FC;\n",
              "      --hover-bg-color: #434B5C;\n",
              "      --hover-fill-color: #FFFFFF;\n",
              "      --disabled-bg-color: #3B4455;\n",
              "      --disabled-fill-color: #666;\n",
              "  }\n",
              "\n",
              "  .colab-df-quickchart {\n",
              "    background-color: var(--bg-color);\n",
              "    border: none;\n",
              "    border-radius: 50%;\n",
              "    cursor: pointer;\n",
              "    display: none;\n",
              "    fill: var(--fill-color);\n",
              "    height: 32px;\n",
              "    padding: 0;\n",
              "    width: 32px;\n",
              "  }\n",
              "\n",
              "  .colab-df-quickchart:hover {\n",
              "    background-color: var(--hover-bg-color);\n",
              "    box-shadow: 0 1px 2px rgba(60, 64, 67, 0.3), 0 1px 3px 1px rgba(60, 64, 67, 0.15);\n",
              "    fill: var(--button-hover-fill-color);\n",
              "  }\n",
              "\n",
              "  .colab-df-quickchart-complete:disabled,\n",
              "  .colab-df-quickchart-complete:disabled:hover {\n",
              "    background-color: var(--disabled-bg-color);\n",
              "    fill: var(--disabled-fill-color);\n",
              "    box-shadow: none;\n",
              "  }\n",
              "\n",
              "  .colab-df-spinner {\n",
              "    border: 2px solid var(--fill-color);\n",
              "    border-color: transparent;\n",
              "    border-bottom-color: var(--fill-color);\n",
              "    animation:\n",
              "      spin 1s steps(1) infinite;\n",
              "  }\n",
              "\n",
              "  @keyframes spin {\n",
              "    0% {\n",
              "      border-color: transparent;\n",
              "      border-bottom-color: var(--fill-color);\n",
              "      border-left-color: var(--fill-color);\n",
              "    }\n",
              "    20% {\n",
              "      border-color: transparent;\n",
              "      border-left-color: var(--fill-color);\n",
              "      border-top-color: var(--fill-color);\n",
              "    }\n",
              "    30% {\n",
              "      border-color: transparent;\n",
              "      border-left-color: var(--fill-color);\n",
              "      border-top-color: var(--fill-color);\n",
              "      border-right-color: var(--fill-color);\n",
              "    }\n",
              "    40% {\n",
              "      border-color: transparent;\n",
              "      border-right-color: var(--fill-color);\n",
              "      border-top-color: var(--fill-color);\n",
              "    }\n",
              "    60% {\n",
              "      border-color: transparent;\n",
              "      border-right-color: var(--fill-color);\n",
              "    }\n",
              "    80% {\n",
              "      border-color: transparent;\n",
              "      border-right-color: var(--fill-color);\n",
              "      border-bottom-color: var(--fill-color);\n",
              "    }\n",
              "    90% {\n",
              "      border-color: transparent;\n",
              "      border-bottom-color: var(--fill-color);\n",
              "    }\n",
              "  }\n",
              "</style>\n",
              "\n",
              "  <script>\n",
              "    async function quickchart(key) {\n",
              "      const quickchartButtonEl =\n",
              "        document.querySelector('#' + key + ' button');\n",
              "      quickchartButtonEl.disabled = true;  // To prevent multiple clicks.\n",
              "      quickchartButtonEl.classList.add('colab-df-spinner');\n",
              "      try {\n",
              "        const charts = await google.colab.kernel.invokeFunction(\n",
              "            'suggestCharts', [key], {});\n",
              "      } catch (error) {\n",
              "        console.error('Error during call to suggestCharts:', error);\n",
              "      }\n",
              "      quickchartButtonEl.classList.remove('colab-df-spinner');\n",
              "      quickchartButtonEl.classList.add('colab-df-quickchart-complete');\n",
              "    }\n",
              "    (() => {\n",
              "      let quickchartButtonEl =\n",
              "        document.querySelector('#df-c28fa876-1a0e-4d11-9278-7dbac12098d3 button');\n",
              "      quickchartButtonEl.style.display =\n",
              "        google.colab.kernel.accessAllowed ? 'block' : 'none';\n",
              "    })();\n",
              "  </script>\n",
              "</div>\n",
              "\n",
              "  <div id=\"id_a76cc501-6229-4856-8773-87c28278c2f4\">\n",
              "    <style>\n",
              "      .colab-df-generate {\n",
              "        background-color: #E8F0FE;\n",
              "        border: none;\n",
              "        border-radius: 50%;\n",
              "        cursor: pointer;\n",
              "        display: none;\n",
              "        fill: #1967D2;\n",
              "        height: 32px;\n",
              "        padding: 0 0 0 0;\n",
              "        width: 32px;\n",
              "      }\n",
              "\n",
              "      .colab-df-generate:hover {\n",
              "        background-color: #E2EBFA;\n",
              "        box-shadow: 0px 1px 2px rgba(60, 64, 67, 0.3), 0px 1px 3px 1px rgba(60, 64, 67, 0.15);\n",
              "        fill: #174EA6;\n",
              "      }\n",
              "\n",
              "      [theme=dark] .colab-df-generate {\n",
              "        background-color: #3B4455;\n",
              "        fill: #D2E3FC;\n",
              "      }\n",
              "\n",
              "      [theme=dark] .colab-df-generate:hover {\n",
              "        background-color: #434B5C;\n",
              "        box-shadow: 0px 1px 3px 1px rgba(0, 0, 0, 0.15);\n",
              "        filter: drop-shadow(0px 1px 2px rgba(0, 0, 0, 0.3));\n",
              "        fill: #FFFFFF;\n",
              "      }\n",
              "    </style>\n",
              "    <button class=\"colab-df-generate\" onclick=\"generateWithVariable('df')\"\n",
              "            title=\"Generate code using this dataframe.\"\n",
              "            style=\"display:none;\">\n",
              "\n",
              "  <svg xmlns=\"http://www.w3.org/2000/svg\" height=\"24px\"viewBox=\"0 0 24 24\"\n",
              "       width=\"24px\">\n",
              "    <path d=\"M7,19H8.4L18.45,9,17,7.55,7,17.6ZM5,21V16.75L18.45,3.32a2,2,0,0,1,2.83,0l1.4,1.43a1.91,1.91,0,0,1,.58,1.4,1.91,1.91,0,0,1-.58,1.4L9.25,21ZM18.45,9,17,7.55Zm-12,3A5.31,5.31,0,0,0,4.9,8.1,5.31,5.31,0,0,0,1,6.5,5.31,5.31,0,0,0,4.9,4.9,5.31,5.31,0,0,0,6.5,1,5.31,5.31,0,0,0,8.1,4.9,5.31,5.31,0,0,0,12,6.5,5.46,5.46,0,0,0,6.5,12Z\"/>\n",
              "  </svg>\n",
              "    </button>\n",
              "    <script>\n",
              "      (() => {\n",
              "      const buttonEl =\n",
              "        document.querySelector('#id_a76cc501-6229-4856-8773-87c28278c2f4 button.colab-df-generate');\n",
              "      buttonEl.style.display =\n",
              "        google.colab.kernel.accessAllowed ? 'block' : 'none';\n",
              "\n",
              "      buttonEl.onclick = () => {\n",
              "        google.colab.notebook.generateWithVariable('df');\n",
              "      }\n",
              "      })();\n",
              "    </script>\n",
              "  </div>\n",
              "\n",
              "    </div>\n",
              "  </div>\n"
            ],
            "application/vnd.google.colaboratory.intrinsic+json": {
              "type": "dataframe",
              "variable_name": "df",
              "summary": "{\n  \"name\": \"df\",\n  \"rows\": 45000,\n  \"fields\": [\n    {\n      \"column\": \"person_age\",\n      \"properties\": {\n        \"dtype\": \"number\",\n        \"std\": 6.045108211348622,\n        \"min\": 20.0,\n        \"max\": 144.0,\n        \"num_unique_values\": 60,\n        \"samples\": [\n          22.0,\n          26.0,\n          53.0\n        ],\n        \"semantic_type\": \"\",\n        \"description\": \"\"\n      }\n    },\n    {\n      \"column\": \"person_gender\",\n      \"properties\": {\n        \"dtype\": \"category\",\n        \"num_unique_values\": 2,\n        \"samples\": [\n          \"male\",\n          \"female\"\n        ],\n        \"semantic_type\": \"\",\n        \"description\": \"\"\n      }\n    },\n    {\n      \"column\": \"person_education\",\n      \"properties\": {\n        \"dtype\": \"category\",\n        \"num_unique_values\": 5,\n        \"samples\": [\n          \"High School\",\n          \"Doctorate\"\n        ],\n        \"semantic_type\": \"\",\n        \"description\": \"\"\n      }\n    },\n    {\n      \"column\": \"person_income\",\n      \"properties\": {\n        \"dtype\": \"number\",\n        \"std\": 80422.49863189556,\n        \"min\": 8000.0,\n        \"max\": 7200766.0,\n        \"num_unique_values\": 33989,\n        \"samples\": [\n          48967.0,\n          31001.0\n        ],\n        \"semantic_type\": \"\",\n        \"description\": \"\"\n      }\n    },\n    {\n      \"column\": \"person_emp_exp\",\n      \"properties\": {\n        \"dtype\": \"number\",\n        \"std\": 6,\n        \"min\": 0,\n        \"max\": 125,\n        \"num_unique_values\": 63,\n        \"samples\": [\n          93,\n          76\n        ],\n        \"semantic_type\": \"\",\n        \"description\": \"\"\n      }\n    },\n    {\n      \"column\": \"person_home_ownership\",\n      \"properties\": {\n        \"dtype\": \"category\",\n        \"num_unique_values\": 4,\n        \"samples\": [\n          \"OWN\",\n          \"OTHER\"\n        ],\n        \"semantic_type\": \"\",\n        \"description\": \"\"\n      }\n    },\n    {\n      \"column\": \"loan_amnt\",\n      \"properties\": {\n        \"dtype\": \"number\",\n        \"std\": 6314.8866905411405,\n        \"min\": 500.0,\n        \"max\": 35000.0,\n        \"num_unique_values\": 4483,\n        \"samples\": [\n          5800.0,\n          28338.0\n        ],\n        \"semantic_type\": \"\",\n        \"description\": \"\"\n      }\n    },\n    {\n      \"column\": \"loan_intent\",\n      \"properties\": {\n        \"dtype\": \"category\",\n        \"num_unique_values\": 6,\n        \"samples\": [\n          \"PERSONAL\",\n          \"EDUCATION\"\n        ],\n        \"semantic_type\": \"\",\n        \"description\": \"\"\n      }\n    },\n    {\n      \"column\": \"loan_int_rate\",\n      \"properties\": {\n        \"dtype\": \"number\",\n        \"std\": 2.9788082802254734,\n        \"min\": 5.42,\n        \"max\": 20.0,\n        \"num_unique_values\": 1302,\n        \"samples\": [\n          15.0,\n          13.45\n        ],\n        \"semantic_type\": \"\",\n        \"description\": \"\"\n      }\n    },\n    {\n      \"column\": \"loan_percent_income\",\n      \"properties\": {\n        \"dtype\": \"number\",\n        \"std\": 0.08721230801403355,\n        \"min\": 0.0,\n        \"max\": 0.66,\n        \"num_unique_values\": 64,\n        \"samples\": [\n          0.45,\n          0.54\n        ],\n        \"semantic_type\": \"\",\n        \"description\": \"\"\n      }\n    },\n    {\n      \"column\": \"cb_person_cred_hist_length\",\n      \"properties\": {\n        \"dtype\": \"number\",\n        \"std\": 3.8797018451620433,\n        \"min\": 2.0,\n        \"max\": 30.0,\n        \"num_unique_values\": 29,\n        \"samples\": [\n          24.0,\n          25.0\n        ],\n        \"semantic_type\": \"\",\n        \"description\": \"\"\n      }\n    },\n    {\n      \"column\": \"credit_score\",\n      \"properties\": {\n        \"dtype\": \"number\",\n        \"std\": 50,\n        \"min\": 390,\n        \"max\": 850,\n        \"num_unique_values\": 340,\n        \"samples\": [\n          492,\n          484\n        ],\n        \"semantic_type\": \"\",\n        \"description\": \"\"\n      }\n    },\n    {\n      \"column\": \"previous_loan_defaults_on_file\",\n      \"properties\": {\n        \"dtype\": \"number\",\n        \"std\": 0,\n        \"min\": 0,\n        \"max\": 1,\n        \"num_unique_values\": 2,\n        \"samples\": [\n          0,\n          1\n        ],\n        \"semantic_type\": \"\",\n        \"description\": \"\"\n      }\n    },\n    {\n      \"column\": \"loan_status\",\n      \"properties\": {\n        \"dtype\": \"number\",\n        \"std\": 0,\n        \"min\": 0,\n        \"max\": 1,\n        \"num_unique_values\": 2,\n        \"samples\": [\n          0,\n          1\n        ],\n        \"semantic_type\": \"\",\n        \"description\": \"\"\n      }\n    }\n  ]\n}"
            }
          },
          "metadata": {},
          "execution_count": 11
        }
      ],
      "source": [
        "df"
      ]
    },
    {
      "cell_type": "markdown",
      "source": [
        "#LableEncoder"
      ],
      "metadata": {
        "id": "Bi1FFr2hi6JT"
      }
    },
    {
      "cell_type": "code",
      "execution_count": null,
      "metadata": {
        "id": "6WcfMN0bLoPC"
      },
      "outputs": [],
      "source": [
        "from sklearn.preprocessing import LabelEncoder\n",
        "label_encoder = LabelEncoder()\n",
        "df['person_education'] = label_encoder.fit_transform(df['person_education'])"
      ]
    },
    {
      "cell_type": "markdown",
      "source": [
        "#OneHotEncoder"
      ],
      "metadata": {
        "id": "XGllOhct2-g0"
      }
    },
    {
      "cell_type": "code",
      "execution_count": null,
      "metadata": {
        "id": "H70NOHCsRbeA"
      },
      "outputs": [],
      "source": [
        "from sklearn.preprocessing import OneHotEncoder\n",
        "ohe1=OneHotEncoder()\n",
        "gender=ohe1.fit_transform(df[['person_gender']]).toarray()\n",
        "gender=pd.DataFrame(gender,columns=ohe1.get_feature_names_out())\n",
        "df=pd.concat([df,gender],axis=1)\n",
        "df.drop('person_gender',axis=1,inplace=True)\n",
        "\n",
        "ohe2=OneHotEncoder()\n",
        "home=ohe2.fit_transform(df[['person_home_ownership']]).toarray()\n",
        "home=pd.DataFrame(home,columns=ohe2.get_feature_names_out())\n",
        "df=pd.concat([df,home],axis=1)\n",
        "df.drop('person_home_ownership',axis=1,inplace=True)\n",
        "\n",
        "ohe3=OneHotEncoder()\n",
        "intent=ohe3.fit_transform(df[['loan_intent']]).toarray()\n",
        "intent=pd.DataFrame(intent,columns=ohe3.get_feature_names_out())\n",
        "df=pd.concat([df,intent],axis=1)\n",
        "df.drop('loan_intent',axis=1,inplace=True)"
      ]
    },
    {
      "cell_type": "code",
      "execution_count": null,
      "metadata": {
        "colab": {
          "base_uri": "https://localhost:8080/",
          "height": 443
        },
        "id": "NTcGuEDYjcz3",
        "outputId": "4feb1e9a-0c59-4535-b20a-dd057fab7c51"
      },
      "outputs": [
        {
          "output_type": "execute_result",
          "data": {
            "text/plain": [
              "       person_age  person_education  person_income  person_emp_exp  loan_amnt  \\\n",
              "0            22.0                 4        71948.0               0    35000.0   \n",
              "1            21.0                 3        12282.0               0     1000.0   \n",
              "2            25.0                 3        12438.0               3     5500.0   \n",
              "3            23.0                 1        79753.0               0    35000.0   \n",
              "4            24.0                 4        66135.0               1    35000.0   \n",
              "...           ...               ...            ...             ...        ...   \n",
              "44995        27.0                 0        47971.0               6    15000.0   \n",
              "44996        37.0                 0        65800.0              17     9000.0   \n",
              "44997        33.0                 0        56942.0               7     2771.0   \n",
              "44998        29.0                 1        33164.0               4    12000.0   \n",
              "44999        24.0                 3        51609.0               1     6665.0   \n",
              "\n",
              "       loan_int_rate  loan_percent_income  cb_person_cred_hist_length  \\\n",
              "0              16.02                 0.49                         3.0   \n",
              "1              11.14                 0.08                         2.0   \n",
              "2              12.87                 0.44                         3.0   \n",
              "3              15.23                 0.44                         2.0   \n",
              "4              14.27                 0.53                         4.0   \n",
              "...              ...                  ...                         ...   \n",
              "44995          15.66                 0.31                         3.0   \n",
              "44996          14.07                 0.14                        11.0   \n",
              "44997          10.02                 0.05                        10.0   \n",
              "44998          13.23                 0.36                         6.0   \n",
              "44999          17.05                 0.13                         3.0   \n",
              "\n",
              "       credit_score  previous_loan_defaults_on_file  ...  \\\n",
              "0               561                               1  ...   \n",
              "1               504                               0  ...   \n",
              "2               635                               1  ...   \n",
              "3               675                               1  ...   \n",
              "4               586                               1  ...   \n",
              "...             ...                             ...  ...   \n",
              "44995           645                               1  ...   \n",
              "44996           621                               1  ...   \n",
              "44997           668                               1  ...   \n",
              "44998           604                               1  ...   \n",
              "44999           628                               1  ...   \n",
              "\n",
              "       person_home_ownership_MORTGAGE  person_home_ownership_OTHER  \\\n",
              "0                                 0.0                          0.0   \n",
              "1                                 0.0                          0.0   \n",
              "2                                 1.0                          0.0   \n",
              "3                                 0.0                          0.0   \n",
              "4                                 0.0                          0.0   \n",
              "...                               ...                          ...   \n",
              "44995                             0.0                          0.0   \n",
              "44996                             0.0                          0.0   \n",
              "44997                             0.0                          0.0   \n",
              "44998                             0.0                          0.0   \n",
              "44999                             0.0                          0.0   \n",
              "\n",
              "       person_home_ownership_OWN  person_home_ownership_RENT  \\\n",
              "0                            0.0                         1.0   \n",
              "1                            1.0                         0.0   \n",
              "2                            0.0                         0.0   \n",
              "3                            0.0                         1.0   \n",
              "4                            0.0                         1.0   \n",
              "...                          ...                         ...   \n",
              "44995                        0.0                         1.0   \n",
              "44996                        0.0                         1.0   \n",
              "44997                        0.0                         1.0   \n",
              "44998                        0.0                         1.0   \n",
              "44999                        0.0                         1.0   \n",
              "\n",
              "       loan_intent_DEBTCONSOLIDATION  loan_intent_EDUCATION  \\\n",
              "0                                0.0                    0.0   \n",
              "1                                0.0                    1.0   \n",
              "2                                0.0                    0.0   \n",
              "3                                0.0                    0.0   \n",
              "4                                0.0                    0.0   \n",
              "...                              ...                    ...   \n",
              "44995                            0.0                    0.0   \n",
              "44996                            0.0                    0.0   \n",
              "44997                            1.0                    0.0   \n",
              "44998                            0.0                    1.0   \n",
              "44999                            1.0                    0.0   \n",
              "\n",
              "       loan_intent_HOMEIMPROVEMENT  loan_intent_MEDICAL  loan_intent_PERSONAL  \\\n",
              "0                              0.0                  0.0                   1.0   \n",
              "1                              0.0                  0.0                   0.0   \n",
              "2                              0.0                  1.0                   0.0   \n",
              "3                              0.0                  1.0                   0.0   \n",
              "4                              0.0                  1.0                   0.0   \n",
              "...                            ...                  ...                   ...   \n",
              "44995                          0.0                  1.0                   0.0   \n",
              "44996                          1.0                  0.0                   0.0   \n",
              "44997                          0.0                  0.0                   0.0   \n",
              "44998                          0.0                  0.0                   0.0   \n",
              "44999                          0.0                  0.0                   0.0   \n",
              "\n",
              "       loan_intent_VENTURE  \n",
              "0                      0.0  \n",
              "1                      0.0  \n",
              "2                      0.0  \n",
              "3                      0.0  \n",
              "4                      0.0  \n",
              "...                    ...  \n",
              "44995                  0.0  \n",
              "44996                  0.0  \n",
              "44997                  0.0  \n",
              "44998                  0.0  \n",
              "44999                  0.0  \n",
              "\n",
              "[45000 rows x 23 columns]"
            ],
            "text/html": [
              "\n",
              "  <div id=\"df-fe5cb21a-cb87-44e1-a3fc-5b7c7c47748b\" class=\"colab-df-container\">\n",
              "    <div>\n",
              "<style scoped>\n",
              "    .dataframe tbody tr th:only-of-type {\n",
              "        vertical-align: middle;\n",
              "    }\n",
              "\n",
              "    .dataframe tbody tr th {\n",
              "        vertical-align: top;\n",
              "    }\n",
              "\n",
              "    .dataframe thead th {\n",
              "        text-align: right;\n",
              "    }\n",
              "</style>\n",
              "<table border=\"1\" class=\"dataframe\">\n",
              "  <thead>\n",
              "    <tr style=\"text-align: right;\">\n",
              "      <th></th>\n",
              "      <th>person_age</th>\n",
              "      <th>person_education</th>\n",
              "      <th>person_income</th>\n",
              "      <th>person_emp_exp</th>\n",
              "      <th>loan_amnt</th>\n",
              "      <th>loan_int_rate</th>\n",
              "      <th>loan_percent_income</th>\n",
              "      <th>cb_person_cred_hist_length</th>\n",
              "      <th>credit_score</th>\n",
              "      <th>previous_loan_defaults_on_file</th>\n",
              "      <th>...</th>\n",
              "      <th>person_home_ownership_MORTGAGE</th>\n",
              "      <th>person_home_ownership_OTHER</th>\n",
              "      <th>person_home_ownership_OWN</th>\n",
              "      <th>person_home_ownership_RENT</th>\n",
              "      <th>loan_intent_DEBTCONSOLIDATION</th>\n",
              "      <th>loan_intent_EDUCATION</th>\n",
              "      <th>loan_intent_HOMEIMPROVEMENT</th>\n",
              "      <th>loan_intent_MEDICAL</th>\n",
              "      <th>loan_intent_PERSONAL</th>\n",
              "      <th>loan_intent_VENTURE</th>\n",
              "    </tr>\n",
              "  </thead>\n",
              "  <tbody>\n",
              "    <tr>\n",
              "      <th>0</th>\n",
              "      <td>22.0</td>\n",
              "      <td>4</td>\n",
              "      <td>71948.0</td>\n",
              "      <td>0</td>\n",
              "      <td>35000.0</td>\n",
              "      <td>16.02</td>\n",
              "      <td>0.49</td>\n",
              "      <td>3.0</td>\n",
              "      <td>561</td>\n",
              "      <td>1</td>\n",
              "      <td>...</td>\n",
              "      <td>0.0</td>\n",
              "      <td>0.0</td>\n",
              "      <td>0.0</td>\n",
              "      <td>1.0</td>\n",
              "      <td>0.0</td>\n",
              "      <td>0.0</td>\n",
              "      <td>0.0</td>\n",
              "      <td>0.0</td>\n",
              "      <td>1.0</td>\n",
              "      <td>0.0</td>\n",
              "    </tr>\n",
              "    <tr>\n",
              "      <th>1</th>\n",
              "      <td>21.0</td>\n",
              "      <td>3</td>\n",
              "      <td>12282.0</td>\n",
              "      <td>0</td>\n",
              "      <td>1000.0</td>\n",
              "      <td>11.14</td>\n",
              "      <td>0.08</td>\n",
              "      <td>2.0</td>\n",
              "      <td>504</td>\n",
              "      <td>0</td>\n",
              "      <td>...</td>\n",
              "      <td>0.0</td>\n",
              "      <td>0.0</td>\n",
              "      <td>1.0</td>\n",
              "      <td>0.0</td>\n",
              "      <td>0.0</td>\n",
              "      <td>1.0</td>\n",
              "      <td>0.0</td>\n",
              "      <td>0.0</td>\n",
              "      <td>0.0</td>\n",
              "      <td>0.0</td>\n",
              "    </tr>\n",
              "    <tr>\n",
              "      <th>2</th>\n",
              "      <td>25.0</td>\n",
              "      <td>3</td>\n",
              "      <td>12438.0</td>\n",
              "      <td>3</td>\n",
              "      <td>5500.0</td>\n",
              "      <td>12.87</td>\n",
              "      <td>0.44</td>\n",
              "      <td>3.0</td>\n",
              "      <td>635</td>\n",
              "      <td>1</td>\n",
              "      <td>...</td>\n",
              "      <td>1.0</td>\n",
              "      <td>0.0</td>\n",
              "      <td>0.0</td>\n",
              "      <td>0.0</td>\n",
              "      <td>0.0</td>\n",
              "      <td>0.0</td>\n",
              "      <td>0.0</td>\n",
              "      <td>1.0</td>\n",
              "      <td>0.0</td>\n",
              "      <td>0.0</td>\n",
              "    </tr>\n",
              "    <tr>\n",
              "      <th>3</th>\n",
              "      <td>23.0</td>\n",
              "      <td>1</td>\n",
              "      <td>79753.0</td>\n",
              "      <td>0</td>\n",
              "      <td>35000.0</td>\n",
              "      <td>15.23</td>\n",
              "      <td>0.44</td>\n",
              "      <td>2.0</td>\n",
              "      <td>675</td>\n",
              "      <td>1</td>\n",
              "      <td>...</td>\n",
              "      <td>0.0</td>\n",
              "      <td>0.0</td>\n",
              "      <td>0.0</td>\n",
              "      <td>1.0</td>\n",
              "      <td>0.0</td>\n",
              "      <td>0.0</td>\n",
              "      <td>0.0</td>\n",
              "      <td>1.0</td>\n",
              "      <td>0.0</td>\n",
              "      <td>0.0</td>\n",
              "    </tr>\n",
              "    <tr>\n",
              "      <th>4</th>\n",
              "      <td>24.0</td>\n",
              "      <td>4</td>\n",
              "      <td>66135.0</td>\n",
              "      <td>1</td>\n",
              "      <td>35000.0</td>\n",
              "      <td>14.27</td>\n",
              "      <td>0.53</td>\n",
              "      <td>4.0</td>\n",
              "      <td>586</td>\n",
              "      <td>1</td>\n",
              "      <td>...</td>\n",
              "      <td>0.0</td>\n",
              "      <td>0.0</td>\n",
              "      <td>0.0</td>\n",
              "      <td>1.0</td>\n",
              "      <td>0.0</td>\n",
              "      <td>0.0</td>\n",
              "      <td>0.0</td>\n",
              "      <td>1.0</td>\n",
              "      <td>0.0</td>\n",
              "      <td>0.0</td>\n",
              "    </tr>\n",
              "    <tr>\n",
              "      <th>...</th>\n",
              "      <td>...</td>\n",
              "      <td>...</td>\n",
              "      <td>...</td>\n",
              "      <td>...</td>\n",
              "      <td>...</td>\n",
              "      <td>...</td>\n",
              "      <td>...</td>\n",
              "      <td>...</td>\n",
              "      <td>...</td>\n",
              "      <td>...</td>\n",
              "      <td>...</td>\n",
              "      <td>...</td>\n",
              "      <td>...</td>\n",
              "      <td>...</td>\n",
              "      <td>...</td>\n",
              "      <td>...</td>\n",
              "      <td>...</td>\n",
              "      <td>...</td>\n",
              "      <td>...</td>\n",
              "      <td>...</td>\n",
              "      <td>...</td>\n",
              "    </tr>\n",
              "    <tr>\n",
              "      <th>44995</th>\n",
              "      <td>27.0</td>\n",
              "      <td>0</td>\n",
              "      <td>47971.0</td>\n",
              "      <td>6</td>\n",
              "      <td>15000.0</td>\n",
              "      <td>15.66</td>\n",
              "      <td>0.31</td>\n",
              "      <td>3.0</td>\n",
              "      <td>645</td>\n",
              "      <td>1</td>\n",
              "      <td>...</td>\n",
              "      <td>0.0</td>\n",
              "      <td>0.0</td>\n",
              "      <td>0.0</td>\n",
              "      <td>1.0</td>\n",
              "      <td>0.0</td>\n",
              "      <td>0.0</td>\n",
              "      <td>0.0</td>\n",
              "      <td>1.0</td>\n",
              "      <td>0.0</td>\n",
              "      <td>0.0</td>\n",
              "    </tr>\n",
              "    <tr>\n",
              "      <th>44996</th>\n",
              "      <td>37.0</td>\n",
              "      <td>0</td>\n",
              "      <td>65800.0</td>\n",
              "      <td>17</td>\n",
              "      <td>9000.0</td>\n",
              "      <td>14.07</td>\n",
              "      <td>0.14</td>\n",
              "      <td>11.0</td>\n",
              "      <td>621</td>\n",
              "      <td>1</td>\n",
              "      <td>...</td>\n",
              "      <td>0.0</td>\n",
              "      <td>0.0</td>\n",
              "      <td>0.0</td>\n",
              "      <td>1.0</td>\n",
              "      <td>0.0</td>\n",
              "      <td>0.0</td>\n",
              "      <td>1.0</td>\n",
              "      <td>0.0</td>\n",
              "      <td>0.0</td>\n",
              "      <td>0.0</td>\n",
              "    </tr>\n",
              "    <tr>\n",
              "      <th>44997</th>\n",
              "      <td>33.0</td>\n",
              "      <td>0</td>\n",
              "      <td>56942.0</td>\n",
              "      <td>7</td>\n",
              "      <td>2771.0</td>\n",
              "      <td>10.02</td>\n",
              "      <td>0.05</td>\n",
              "      <td>10.0</td>\n",
              "      <td>668</td>\n",
              "      <td>1</td>\n",
              "      <td>...</td>\n",
              "      <td>0.0</td>\n",
              "      <td>0.0</td>\n",
              "      <td>0.0</td>\n",
              "      <td>1.0</td>\n",
              "      <td>1.0</td>\n",
              "      <td>0.0</td>\n",
              "      <td>0.0</td>\n",
              "      <td>0.0</td>\n",
              "      <td>0.0</td>\n",
              "      <td>0.0</td>\n",
              "    </tr>\n",
              "    <tr>\n",
              "      <th>44998</th>\n",
              "      <td>29.0</td>\n",
              "      <td>1</td>\n",
              "      <td>33164.0</td>\n",
              "      <td>4</td>\n",
              "      <td>12000.0</td>\n",
              "      <td>13.23</td>\n",
              "      <td>0.36</td>\n",
              "      <td>6.0</td>\n",
              "      <td>604</td>\n",
              "      <td>1</td>\n",
              "      <td>...</td>\n",
              "      <td>0.0</td>\n",
              "      <td>0.0</td>\n",
              "      <td>0.0</td>\n",
              "      <td>1.0</td>\n",
              "      <td>0.0</td>\n",
              "      <td>1.0</td>\n",
              "      <td>0.0</td>\n",
              "      <td>0.0</td>\n",
              "      <td>0.0</td>\n",
              "      <td>0.0</td>\n",
              "    </tr>\n",
              "    <tr>\n",
              "      <th>44999</th>\n",
              "      <td>24.0</td>\n",
              "      <td>3</td>\n",
              "      <td>51609.0</td>\n",
              "      <td>1</td>\n",
              "      <td>6665.0</td>\n",
              "      <td>17.05</td>\n",
              "      <td>0.13</td>\n",
              "      <td>3.0</td>\n",
              "      <td>628</td>\n",
              "      <td>1</td>\n",
              "      <td>...</td>\n",
              "      <td>0.0</td>\n",
              "      <td>0.0</td>\n",
              "      <td>0.0</td>\n",
              "      <td>1.0</td>\n",
              "      <td>1.0</td>\n",
              "      <td>0.0</td>\n",
              "      <td>0.0</td>\n",
              "      <td>0.0</td>\n",
              "      <td>0.0</td>\n",
              "      <td>0.0</td>\n",
              "    </tr>\n",
              "  </tbody>\n",
              "</table>\n",
              "<p>45000 rows × 23 columns</p>\n",
              "</div>\n",
              "    <div class=\"colab-df-buttons\">\n",
              "\n",
              "  <div class=\"colab-df-container\">\n",
              "    <button class=\"colab-df-convert\" onclick=\"convertToInteractive('df-fe5cb21a-cb87-44e1-a3fc-5b7c7c47748b')\"\n",
              "            title=\"Convert this dataframe to an interactive table.\"\n",
              "            style=\"display:none;\">\n",
              "\n",
              "  <svg xmlns=\"http://www.w3.org/2000/svg\" height=\"24px\" viewBox=\"0 -960 960 960\">\n",
              "    <path d=\"M120-120v-720h720v720H120Zm60-500h600v-160H180v160Zm220 220h160v-160H400v160Zm0 220h160v-160H400v160ZM180-400h160v-160H180v160Zm440 0h160v-160H620v160ZM180-180h160v-160H180v160Zm440 0h160v-160H620v160Z\"/>\n",
              "  </svg>\n",
              "    </button>\n",
              "\n",
              "  <style>\n",
              "    .colab-df-container {\n",
              "      display:flex;\n",
              "      gap: 12px;\n",
              "    }\n",
              "\n",
              "    .colab-df-convert {\n",
              "      background-color: #E8F0FE;\n",
              "      border: none;\n",
              "      border-radius: 50%;\n",
              "      cursor: pointer;\n",
              "      display: none;\n",
              "      fill: #1967D2;\n",
              "      height: 32px;\n",
              "      padding: 0 0 0 0;\n",
              "      width: 32px;\n",
              "    }\n",
              "\n",
              "    .colab-df-convert:hover {\n",
              "      background-color: #E2EBFA;\n",
              "      box-shadow: 0px 1px 2px rgba(60, 64, 67, 0.3), 0px 1px 3px 1px rgba(60, 64, 67, 0.15);\n",
              "      fill: #174EA6;\n",
              "    }\n",
              "\n",
              "    .colab-df-buttons div {\n",
              "      margin-bottom: 4px;\n",
              "    }\n",
              "\n",
              "    [theme=dark] .colab-df-convert {\n",
              "      background-color: #3B4455;\n",
              "      fill: #D2E3FC;\n",
              "    }\n",
              "\n",
              "    [theme=dark] .colab-df-convert:hover {\n",
              "      background-color: #434B5C;\n",
              "      box-shadow: 0px 1px 3px 1px rgba(0, 0, 0, 0.15);\n",
              "      filter: drop-shadow(0px 1px 2px rgba(0, 0, 0, 0.3));\n",
              "      fill: #FFFFFF;\n",
              "    }\n",
              "  </style>\n",
              "\n",
              "    <script>\n",
              "      const buttonEl =\n",
              "        document.querySelector('#df-fe5cb21a-cb87-44e1-a3fc-5b7c7c47748b button.colab-df-convert');\n",
              "      buttonEl.style.display =\n",
              "        google.colab.kernel.accessAllowed ? 'block' : 'none';\n",
              "\n",
              "      async function convertToInteractive(key) {\n",
              "        const element = document.querySelector('#df-fe5cb21a-cb87-44e1-a3fc-5b7c7c47748b');\n",
              "        const dataTable =\n",
              "          await google.colab.kernel.invokeFunction('convertToInteractive',\n",
              "                                                    [key], {});\n",
              "        if (!dataTable) return;\n",
              "\n",
              "        const docLinkHtml = 'Like what you see? Visit the ' +\n",
              "          '<a target=\"_blank\" href=https://colab.research.google.com/notebooks/data_table.ipynb>data table notebook</a>'\n",
              "          + ' to learn more about interactive tables.';\n",
              "        element.innerHTML = '';\n",
              "        dataTable['output_type'] = 'display_data';\n",
              "        await google.colab.output.renderOutput(dataTable, element);\n",
              "        const docLink = document.createElement('div');\n",
              "        docLink.innerHTML = docLinkHtml;\n",
              "        element.appendChild(docLink);\n",
              "      }\n",
              "    </script>\n",
              "  </div>\n",
              "\n",
              "\n",
              "<div id=\"df-6d9160aa-6a26-46d8-83ad-1b813423310d\">\n",
              "  <button class=\"colab-df-quickchart\" onclick=\"quickchart('df-6d9160aa-6a26-46d8-83ad-1b813423310d')\"\n",
              "            title=\"Suggest charts\"\n",
              "            style=\"display:none;\">\n",
              "\n",
              "<svg xmlns=\"http://www.w3.org/2000/svg\" height=\"24px\"viewBox=\"0 0 24 24\"\n",
              "     width=\"24px\">\n",
              "    <g>\n",
              "        <path d=\"M19 3H5c-1.1 0-2 .9-2 2v14c0 1.1.9 2 2 2h14c1.1 0 2-.9 2-2V5c0-1.1-.9-2-2-2zM9 17H7v-7h2v7zm4 0h-2V7h2v10zm4 0h-2v-4h2v4z\"/>\n",
              "    </g>\n",
              "</svg>\n",
              "  </button>\n",
              "\n",
              "<style>\n",
              "  .colab-df-quickchart {\n",
              "      --bg-color: #E8F0FE;\n",
              "      --fill-color: #1967D2;\n",
              "      --hover-bg-color: #E2EBFA;\n",
              "      --hover-fill-color: #174EA6;\n",
              "      --disabled-fill-color: #AAA;\n",
              "      --disabled-bg-color: #DDD;\n",
              "  }\n",
              "\n",
              "  [theme=dark] .colab-df-quickchart {\n",
              "      --bg-color: #3B4455;\n",
              "      --fill-color: #D2E3FC;\n",
              "      --hover-bg-color: #434B5C;\n",
              "      --hover-fill-color: #FFFFFF;\n",
              "      --disabled-bg-color: #3B4455;\n",
              "      --disabled-fill-color: #666;\n",
              "  }\n",
              "\n",
              "  .colab-df-quickchart {\n",
              "    background-color: var(--bg-color);\n",
              "    border: none;\n",
              "    border-radius: 50%;\n",
              "    cursor: pointer;\n",
              "    display: none;\n",
              "    fill: var(--fill-color);\n",
              "    height: 32px;\n",
              "    padding: 0;\n",
              "    width: 32px;\n",
              "  }\n",
              "\n",
              "  .colab-df-quickchart:hover {\n",
              "    background-color: var(--hover-bg-color);\n",
              "    box-shadow: 0 1px 2px rgba(60, 64, 67, 0.3), 0 1px 3px 1px rgba(60, 64, 67, 0.15);\n",
              "    fill: var(--button-hover-fill-color);\n",
              "  }\n",
              "\n",
              "  .colab-df-quickchart-complete:disabled,\n",
              "  .colab-df-quickchart-complete:disabled:hover {\n",
              "    background-color: var(--disabled-bg-color);\n",
              "    fill: var(--disabled-fill-color);\n",
              "    box-shadow: none;\n",
              "  }\n",
              "\n",
              "  .colab-df-spinner {\n",
              "    border: 2px solid var(--fill-color);\n",
              "    border-color: transparent;\n",
              "    border-bottom-color: var(--fill-color);\n",
              "    animation:\n",
              "      spin 1s steps(1) infinite;\n",
              "  }\n",
              "\n",
              "  @keyframes spin {\n",
              "    0% {\n",
              "      border-color: transparent;\n",
              "      border-bottom-color: var(--fill-color);\n",
              "      border-left-color: var(--fill-color);\n",
              "    }\n",
              "    20% {\n",
              "      border-color: transparent;\n",
              "      border-left-color: var(--fill-color);\n",
              "      border-top-color: var(--fill-color);\n",
              "    }\n",
              "    30% {\n",
              "      border-color: transparent;\n",
              "      border-left-color: var(--fill-color);\n",
              "      border-top-color: var(--fill-color);\n",
              "      border-right-color: var(--fill-color);\n",
              "    }\n",
              "    40% {\n",
              "      border-color: transparent;\n",
              "      border-right-color: var(--fill-color);\n",
              "      border-top-color: var(--fill-color);\n",
              "    }\n",
              "    60% {\n",
              "      border-color: transparent;\n",
              "      border-right-color: var(--fill-color);\n",
              "    }\n",
              "    80% {\n",
              "      border-color: transparent;\n",
              "      border-right-color: var(--fill-color);\n",
              "      border-bottom-color: var(--fill-color);\n",
              "    }\n",
              "    90% {\n",
              "      border-color: transparent;\n",
              "      border-bottom-color: var(--fill-color);\n",
              "    }\n",
              "  }\n",
              "</style>\n",
              "\n",
              "  <script>\n",
              "    async function quickchart(key) {\n",
              "      const quickchartButtonEl =\n",
              "        document.querySelector('#' + key + ' button');\n",
              "      quickchartButtonEl.disabled = true;  // To prevent multiple clicks.\n",
              "      quickchartButtonEl.classList.add('colab-df-spinner');\n",
              "      try {\n",
              "        const charts = await google.colab.kernel.invokeFunction(\n",
              "            'suggestCharts', [key], {});\n",
              "      } catch (error) {\n",
              "        console.error('Error during call to suggestCharts:', error);\n",
              "      }\n",
              "      quickchartButtonEl.classList.remove('colab-df-spinner');\n",
              "      quickchartButtonEl.classList.add('colab-df-quickchart-complete');\n",
              "    }\n",
              "    (() => {\n",
              "      let quickchartButtonEl =\n",
              "        document.querySelector('#df-6d9160aa-6a26-46d8-83ad-1b813423310d button');\n",
              "      quickchartButtonEl.style.display =\n",
              "        google.colab.kernel.accessAllowed ? 'block' : 'none';\n",
              "    })();\n",
              "  </script>\n",
              "</div>\n",
              "\n",
              "  <div id=\"id_bbdbc8ef-5cbb-4679-89f2-39aa4e39a2fc\">\n",
              "    <style>\n",
              "      .colab-df-generate {\n",
              "        background-color: #E8F0FE;\n",
              "        border: none;\n",
              "        border-radius: 50%;\n",
              "        cursor: pointer;\n",
              "        display: none;\n",
              "        fill: #1967D2;\n",
              "        height: 32px;\n",
              "        padding: 0 0 0 0;\n",
              "        width: 32px;\n",
              "      }\n",
              "\n",
              "      .colab-df-generate:hover {\n",
              "        background-color: #E2EBFA;\n",
              "        box-shadow: 0px 1px 2px rgba(60, 64, 67, 0.3), 0px 1px 3px 1px rgba(60, 64, 67, 0.15);\n",
              "        fill: #174EA6;\n",
              "      }\n",
              "\n",
              "      [theme=dark] .colab-df-generate {\n",
              "        background-color: #3B4455;\n",
              "        fill: #D2E3FC;\n",
              "      }\n",
              "\n",
              "      [theme=dark] .colab-df-generate:hover {\n",
              "        background-color: #434B5C;\n",
              "        box-shadow: 0px 1px 3px 1px rgba(0, 0, 0, 0.15);\n",
              "        filter: drop-shadow(0px 1px 2px rgba(0, 0, 0, 0.3));\n",
              "        fill: #FFFFFF;\n",
              "      }\n",
              "    </style>\n",
              "    <button class=\"colab-df-generate\" onclick=\"generateWithVariable('df')\"\n",
              "            title=\"Generate code using this dataframe.\"\n",
              "            style=\"display:none;\">\n",
              "\n",
              "  <svg xmlns=\"http://www.w3.org/2000/svg\" height=\"24px\"viewBox=\"0 0 24 24\"\n",
              "       width=\"24px\">\n",
              "    <path d=\"M7,19H8.4L18.45,9,17,7.55,7,17.6ZM5,21V16.75L18.45,3.32a2,2,0,0,1,2.83,0l1.4,1.43a1.91,1.91,0,0,1,.58,1.4,1.91,1.91,0,0,1-.58,1.4L9.25,21ZM18.45,9,17,7.55Zm-12,3A5.31,5.31,0,0,0,4.9,8.1,5.31,5.31,0,0,0,1,6.5,5.31,5.31,0,0,0,4.9,4.9,5.31,5.31,0,0,0,6.5,1,5.31,5.31,0,0,0,8.1,4.9,5.31,5.31,0,0,0,12,6.5,5.46,5.46,0,0,0,6.5,12Z\"/>\n",
              "  </svg>\n",
              "    </button>\n",
              "    <script>\n",
              "      (() => {\n",
              "      const buttonEl =\n",
              "        document.querySelector('#id_bbdbc8ef-5cbb-4679-89f2-39aa4e39a2fc button.colab-df-generate');\n",
              "      buttonEl.style.display =\n",
              "        google.colab.kernel.accessAllowed ? 'block' : 'none';\n",
              "\n",
              "      buttonEl.onclick = () => {\n",
              "        google.colab.notebook.generateWithVariable('df');\n",
              "      }\n",
              "      })();\n",
              "    </script>\n",
              "  </div>\n",
              "\n",
              "    </div>\n",
              "  </div>\n"
            ],
            "application/vnd.google.colaboratory.intrinsic+json": {
              "type": "dataframe",
              "variable_name": "df"
            }
          },
          "metadata": {},
          "execution_count": 14
        }
      ],
      "source": [
        "df"
      ]
    },
    {
      "cell_type": "code",
      "execution_count": null,
      "metadata": {
        "colab": {
          "base_uri": "https://localhost:8080/",
          "height": 805
        },
        "id": "hDcF81o7j-zV",
        "outputId": "908b9c90-c450-4458-b405-31f630483379"
      },
      "outputs": [
        {
          "output_type": "execute_result",
          "data": {
            "text/plain": [
              "person_age                        0\n",
              "person_education                  0\n",
              "person_income                     0\n",
              "person_emp_exp                    0\n",
              "loan_amnt                         0\n",
              "loan_int_rate                     0\n",
              "loan_percent_income               0\n",
              "cb_person_cred_hist_length        0\n",
              "credit_score                      0\n",
              "previous_loan_defaults_on_file    0\n",
              "loan_status                       0\n",
              "person_gender_female              0\n",
              "person_gender_male                0\n",
              "person_home_ownership_MORTGAGE    0\n",
              "person_home_ownership_OTHER       0\n",
              "person_home_ownership_OWN         0\n",
              "person_home_ownership_RENT        0\n",
              "loan_intent_DEBTCONSOLIDATION     0\n",
              "loan_intent_EDUCATION             0\n",
              "loan_intent_HOMEIMPROVEMENT       0\n",
              "loan_intent_MEDICAL               0\n",
              "loan_intent_PERSONAL              0\n",
              "loan_intent_VENTURE               0\n",
              "dtype: int64"
            ],
            "text/html": [
              "<div>\n",
              "<style scoped>\n",
              "    .dataframe tbody tr th:only-of-type {\n",
              "        vertical-align: middle;\n",
              "    }\n",
              "\n",
              "    .dataframe tbody tr th {\n",
              "        vertical-align: top;\n",
              "    }\n",
              "\n",
              "    .dataframe thead th {\n",
              "        text-align: right;\n",
              "    }\n",
              "</style>\n",
              "<table border=\"1\" class=\"dataframe\">\n",
              "  <thead>\n",
              "    <tr style=\"text-align: right;\">\n",
              "      <th></th>\n",
              "      <th>0</th>\n",
              "    </tr>\n",
              "  </thead>\n",
              "  <tbody>\n",
              "    <tr>\n",
              "      <th>person_age</th>\n",
              "      <td>0</td>\n",
              "    </tr>\n",
              "    <tr>\n",
              "      <th>person_education</th>\n",
              "      <td>0</td>\n",
              "    </tr>\n",
              "    <tr>\n",
              "      <th>person_income</th>\n",
              "      <td>0</td>\n",
              "    </tr>\n",
              "    <tr>\n",
              "      <th>person_emp_exp</th>\n",
              "      <td>0</td>\n",
              "    </tr>\n",
              "    <tr>\n",
              "      <th>loan_amnt</th>\n",
              "      <td>0</td>\n",
              "    </tr>\n",
              "    <tr>\n",
              "      <th>loan_int_rate</th>\n",
              "      <td>0</td>\n",
              "    </tr>\n",
              "    <tr>\n",
              "      <th>loan_percent_income</th>\n",
              "      <td>0</td>\n",
              "    </tr>\n",
              "    <tr>\n",
              "      <th>cb_person_cred_hist_length</th>\n",
              "      <td>0</td>\n",
              "    </tr>\n",
              "    <tr>\n",
              "      <th>credit_score</th>\n",
              "      <td>0</td>\n",
              "    </tr>\n",
              "    <tr>\n",
              "      <th>previous_loan_defaults_on_file</th>\n",
              "      <td>0</td>\n",
              "    </tr>\n",
              "    <tr>\n",
              "      <th>loan_status</th>\n",
              "      <td>0</td>\n",
              "    </tr>\n",
              "    <tr>\n",
              "      <th>person_gender_female</th>\n",
              "      <td>0</td>\n",
              "    </tr>\n",
              "    <tr>\n",
              "      <th>person_gender_male</th>\n",
              "      <td>0</td>\n",
              "    </tr>\n",
              "    <tr>\n",
              "      <th>person_home_ownership_MORTGAGE</th>\n",
              "      <td>0</td>\n",
              "    </tr>\n",
              "    <tr>\n",
              "      <th>person_home_ownership_OTHER</th>\n",
              "      <td>0</td>\n",
              "    </tr>\n",
              "    <tr>\n",
              "      <th>person_home_ownership_OWN</th>\n",
              "      <td>0</td>\n",
              "    </tr>\n",
              "    <tr>\n",
              "      <th>person_home_ownership_RENT</th>\n",
              "      <td>0</td>\n",
              "    </tr>\n",
              "    <tr>\n",
              "      <th>loan_intent_DEBTCONSOLIDATION</th>\n",
              "      <td>0</td>\n",
              "    </tr>\n",
              "    <tr>\n",
              "      <th>loan_intent_EDUCATION</th>\n",
              "      <td>0</td>\n",
              "    </tr>\n",
              "    <tr>\n",
              "      <th>loan_intent_HOMEIMPROVEMENT</th>\n",
              "      <td>0</td>\n",
              "    </tr>\n",
              "    <tr>\n",
              "      <th>loan_intent_MEDICAL</th>\n",
              "      <td>0</td>\n",
              "    </tr>\n",
              "    <tr>\n",
              "      <th>loan_intent_PERSONAL</th>\n",
              "      <td>0</td>\n",
              "    </tr>\n",
              "    <tr>\n",
              "      <th>loan_intent_VENTURE</th>\n",
              "      <td>0</td>\n",
              "    </tr>\n",
              "  </tbody>\n",
              "</table>\n",
              "</div><br><label><b>dtype:</b> int64</label>"
            ]
          },
          "metadata": {},
          "execution_count": 15
        }
      ],
      "source": [
        "df.isnull().sum()"
      ]
    },
    {
      "cell_type": "code",
      "execution_count": null,
      "metadata": {
        "colab": {
          "base_uri": "https://localhost:8080/"
        },
        "id": "s_Je25G0lVpw",
        "outputId": "86661d98-2031-406e-b3c9-7b6535480524"
      },
      "outputs": [
        {
          "output_type": "execute_result",
          "data": {
            "text/plain": [
              "0"
            ]
          },
          "metadata": {},
          "execution_count": 16
        }
      ],
      "source": [
        "df.duplicated().sum()"
      ]
    },
    {
      "cell_type": "markdown",
      "source": [
        "#Outlaiers"
      ],
      "metadata": {
        "id": "uISVuluM3PEe"
      }
    },
    {
      "cell_type": "code",
      "execution_count": null,
      "metadata": {
        "colab": {
          "base_uri": "https://localhost:8080/",
          "height": 1000
        },
        "id": "bBZpob67lYjg",
        "outputId": "7bbe5f77-ff69-4941-f8e6-aa14ac82b597"
      },
      "outputs": [
        {
          "output_type": "display_data",
          "data": {
            "text/plain": [
              "<Figure size 640x480 with 1 Axes>"
            ],
            "image/png": "[encoded data removed]"
          },
          "metadata": {}
        },
        {
          "output_type": "display_data",
          "data": {
            "text/plain": [
              "<Figure size 640x480 with 1 Axes>"
            ],
            "image/png": "[encoded data removed]"
          },
          "metadata": {}
        },
        {
          "output_type": "display_data",
          "data": {
            "text/plain": [
              "<Figure size 640x480 with 1 Axes>"
            ],
            "image/png": "[encoded data removed]"
          },
          "metadata": {}
        },
        {
          "output_type": "display_data",
          "data": {
            "text/plain": [
              "<Figure size 640x480 with 1 Axes>"
            ],
            "image/png": "[encoded data removed]"
          },
          "metadata": {}
        },
        {
          "output_type": "display_data",
          "data": {
            "text/plain": [
              "<Figure size 640x480 with 1 Axes>"
            ],
            "image/png": "[encoded data removed]"
          },
          "metadata": {}
        },
        {
          "output_type": "display_data",
          "data": {
            "text/plain": [
              "<Figure size 640x480 with 1 Axes>"
            ],
            "image/png": "[encoded data removed]"
          },
          "metadata": {}
        },
        {
          "output_type": "display_data",
          "data": {
            "text/plain": [
              "<Figure size 640x480 with 1 Axes>"
            ],
            "image/png": "[encoded data removed]"
          },
          "metadata": {}
        },
        {
          "output_type": "display_data",
          "data": {
            "text/plain": [
              "<Figure size 640x480 with 1 Axes>"
            ],
            "image/png": "[encoded data removed]"
          },
          "metadata": {}
        },
        {
          "output_type": "display_data",
          "data": {
            "text/plain": [
              "<Figure size 640x480 with 1 Axes>"
            ],
            "image/png": "[encoded data removed]"
          },
          "metadata": {}
        },
        {
          "output_type": "display_data",
          "data": {
            "text/plain": [
              "<Figure size 640x480 with 1 Axes>"
            ],
            "image/png": "[encoded data removed]"
          },
          "metadata": {}
        },
        {
          "output_type": "display_data",
          "data": {
            "text/plain": [
              "<Figure size 640x480 with 1 Axes>"
            ],
            "image/png": "[encoded data removed]"
          },
          "metadata": {}
        },
        {
          "output_type": "display_data",
          "data": {
            "text/plain": [
              "<Figure size 640x480 with 1 Axes>"
            ],
            "image/png": "[encoded data removed]"
          },
          "metadata": {}
        },
        {
          "output_type": "display_data",
          "data": {
            "text/plain": [
              "<Figure size 640x480 with 1 Axes>"
            ],
            "image/png": "[encoded data removed]"
          },
          "metadata": {}
        },
        {
          "output_type": "display_data",
          "data": {
            "text/plain": [
              "<Figure size 640x480 with 1 Axes>"
            ],
            "image/png": "[encoded data removed]"
          },
          "metadata": {}
        },
        {
          "output_type": "display_data",
          "data": {
            "text/plain": [
              "<Figure size 640x480 with 1 Axes>"
            ],
            "image/png": "[encoded data removed]"
          },
          "metadata": {}
        },
        {
          "output_type": "display_data",
          "data": {
            "text/plain": [
              "<Figure size 640x480 with 1 Axes>"
            ],
            "image/png": "[encoded data removed]"
          },
          "metadata": {}
        },
        {
          "output_type": "display_data",
          "data": {
            "text/plain": [
              "<Figure size 640x480 with 1 Axes>"
            ],
            "image/png": "[encoded data removed]"
          },
          "metadata": {}
        },
        {
          "output_type": "display_data",
          "data": {
            "text/plain": [
              "<Figure size 640x480 with 1 Axes>"
            ],
            "image/png": "[encoded data removed]"
          },
          "metadata": {}
        },
        {
          "output_type": "display_data",
          "data": {
            "text/plain": [
              "<Figure size 640x480 with 1 Axes>"
            ],
            "image/png": "[encoded data removed]"
          },
          "metadata": {}
        },
        {
          "output_type": "display_data",
          "data": {
            "text/plain": [
              "<Figure size 640x480 with 1 Axes>"
            ],
            "image/png": "[encoded data removed]"
          },
          "metadata": {}
        },
        {
          "output_type": "display_data",
          "data": {
            "text/plain": [
              "<Figure size 640x480 with 1 Axes>"
            ],
            "image/png": "[encoded data removed]"
          },
          "metadata": {}
        },
        {
          "output_type": "display_data",
          "data": {
            "text/plain": [
              "<Figure size 640x480 with 1 Axes>"
            ],
            "image/png": "[encoded data removed]"
          },
          "metadata": {}
        },
        {
          "output_type": "display_data",
          "data": {
            "text/plain": [
              "<Figure size 640x480 with 1 Axes>"
            ],
            "image/png": "[encoded data removed]"
          },
          "metadata": {}
        }
      ],
      "source": [
        "import seaborn as sns\n",
        "import matplotlib.pyplot as plt\n",
        "\n",
        "for i in df.columns:\n",
        "  sns.boxplot(x=df[i])\n",
        "  plt.show()"
      ]
    },
    {
      "cell_type": "markdown",
      "source": [
        "#Histogram"
      ],
      "metadata": {
        "id": "hyDKptIW3bac"
      }
    },
    {
      "cell_type": "code",
      "execution_count": null,
      "metadata": {
        "colab": {
          "base_uri": "https://localhost:8080/",
          "height": 366
        },
        "id": "ekgHNvv_l8uT",
        "outputId": "58e464aa-7580-4b08-9474-c9bbef287c65"
      },
      "outputs": [
        {
          "output_type": "display_data",
          "data": {
            "text/plain": [
              "<Figure size 1000x500 with 1 Axes>"
            ],
            "image/png": "[encoded data removed]"
          },
          "metadata": {}
        }
      ],
      "source": [
        "\n",
        "# Plot histogram\n",
        "plt.figure(figsize=(10, 5))\n",
        "sns.histplot(df[\"person_income\"], bins=30, kde=True, color=\"skyblue\")\n",
        "\n",
        "# Labels and title\n",
        "plt.xlabel(\"age\")\n",
        "plt.ylabel(\"Frequency\")\n",
        "plt.title(\"Distribution of Person Age\")\n",
        "plt.grid(True)\n",
        "\n",
        "# Show plot\n",
        "plt.show()\n"
      ]
    },
    {
      "cell_type": "code",
      "execution_count": null,
      "metadata": {
        "colab": {
          "base_uri": "https://localhost:8080/"
        },
        "id": "l44QV5jqm0Fo",
        "outputId": "c64fdc2a-c021-4f1b-c2e1-bb2f42ed6c09"
      },
      "outputs": [
        {
          "output_type": "stream",
          "name": "stdout",
          "text": [
            "2188 \n",
            " 15.0 \n",
            " 39.0\n"
          ]
        }
      ],
      "source": [
        "q1 = df['person_age'].quantile(0.25)\n",
        "q3 = df['person_age'].quantile(0.75)\n",
        "iqr = q3 - q1\n",
        "lower_bound = q1 - 1.5 * iqr\n",
        "upper_bound = q3 + 1.5 * iqr\n",
        "outliers = df[(df['person_age'] < lower_bound) | (df['person_age'] > upper_bound)]\n",
        "print(len(outliers),\"\\n\",lower_bound,\"\\n\",upper_bound)"
      ]
    },
    {
      "cell_type": "code",
      "execution_count": null,
      "metadata": {
        "id": "BL1OK640nCIU"
      },
      "outputs": [],
      "source": [
        "df=df[((df['person_age'] >=18) & (df['person_age'] <=50))]"
      ]
    },
    {
      "cell_type": "code",
      "execution_count": null,
      "metadata": {
        "colab": {
          "base_uri": "https://localhost:8080/"
        },
        "id": "Q_LrCbgXoIup",
        "outputId": "cc96acd7-359e-4063-f961-c836c3a62160"
      },
      "outputs": [
        {
          "output_type": "execute_result",
          "data": {
            "text/plain": [
              "(44672, 23)"
            ]
          },
          "metadata": {},
          "execution_count": 21
        }
      ],
      "source": [
        "df.shape"
      ]
    },
    {
      "cell_type": "code",
      "execution_count": null,
      "metadata": {
        "colab": {
          "base_uri": "https://localhost:8080/",
          "height": 366
        },
        "id": "OPYTBeSJoK1e",
        "outputId": "eea16dc1-2ebe-4381-b7ab-60bff8c43dd1"
      },
      "outputs": [
        {
          "output_type": "display_data",
          "data": {
            "text/plain": [
              "<Figure size 1000x500 with 1 Axes>"
            ],
            "image/png": "[encoded data removed]"
          },
          "metadata": {}
        }
      ],
      "source": [
        "\n",
        "\n",
        "# Plot histogram\n",
        "plt.figure(figsize=(10, 5))\n",
        "sns.histplot(df[\"person_income\"], bins=30, kde=True, color=\"skyblue\")\n",
        "\n",
        "# Labels and title\n",
        "plt.xlabel(\"income\")\n",
        "plt.ylabel(\"Frequency\")\n",
        "plt.title(\"Distribution of income\")\n",
        "plt.grid(True)\n",
        "\n",
        "# Show plot\n",
        "plt.show()\n"
      ]
    },
    {
      "cell_type": "code",
      "execution_count": null,
      "metadata": {
        "colab": {
          "base_uri": "https://localhost:8080/"
        },
        "id": "05EE2_KBpdfI",
        "outputId": "ce7f43aa-2fb4-4d9f-dd62-75aaf06e362a"
      },
      "outputs": [
        {
          "output_type": "stream",
          "name": "stdout",
          "text": [
            "2192 \n",
            " -25620.5 \n",
            " 168423.5\n"
          ]
        }
      ],
      "source": [
        "q1 = df['person_income'].quantile(0.25)\n",
        "q3 = df['person_income'].quantile(0.75)\n",
        "iqr = q3 - q1\n",
        "lower_bound = q1 - 1.5 * iqr\n",
        "upper_bound = q3 + 1.5 * iqr\n",
        "outliers = df[(df['person_income'] < lower_bound) | (df['person_income'] > upper_bound)]\n",
        "print(len(outliers),\"\\n\",lower_bound,\"\\n\",upper_bound)"
      ]
    },
    {
      "cell_type": "code",
      "execution_count": null,
      "metadata": {
        "id": "t4h9JxC2pwK2"
      },
      "outputs": [],
      "source": [
        "df=df[df['person_income'] <=upper_bound]"
      ]
    },
    {
      "cell_type": "code",
      "execution_count": null,
      "metadata": {
        "colab": {
          "base_uri": "https://localhost:8080/"
        },
        "id": "l_CADRS2qDoW",
        "outputId": "2e306876-e5f6-4d8f-c43c-260095a4329b"
      },
      "outputs": [
        {
          "output_type": "execute_result",
          "data": {
            "text/plain": [
              "(42480, 23)"
            ]
          },
          "metadata": {},
          "execution_count": 25
        }
      ],
      "source": [
        "df.shape"
      ]
    },
    {
      "cell_type": "code",
      "execution_count": null,
      "metadata": {
        "colab": {
          "base_uri": "https://localhost:8080/",
          "height": 366
        },
        "id": "kD3aab4cqFi3",
        "outputId": "dfbbda56-a80d-46ea-a610-04fbbe66d302"
      },
      "outputs": [
        {
          "output_type": "display_data",
          "data": {
            "text/plain": [
              "<Figure size 1000x500 with 1 Axes>"
            ],
            "image/png": "[encoded data removed]"
          },
          "metadata": {}
        }
      ],
      "source": [
        "# Plot histogram\n",
        "plt.figure(figsize=(10, 5))\n",
        "sns.histplot(df[\"person_emp_exp\"], bins=30, kde=True, color=\"skyblue\")\n",
        "\n",
        "# Labels and title\n",
        "plt.xlabel(\"Exp\")\n",
        "plt.ylabel(\"Frequency\")\n",
        "plt.title(\"Distribution of Person_emp_exp\")\n",
        "plt.grid(True)\n",
        "\n",
        "# Show plot\n",
        "plt.show()\n"
      ]
    },
    {
      "cell_type": "code",
      "execution_count": null,
      "metadata": {
        "colab": {
          "base_uri": "https://localhost:8080/"
        },
        "id": "x5Bgl1uNqikZ",
        "outputId": "981158c1-1287-400f-d5b7-b2492db4092e"
      },
      "outputs": [
        {
          "output_type": "stream",
          "name": "stdout",
          "text": [
            "1268 \n",
            " -9.5 \n",
            " 18.5\n"
          ]
        }
      ],
      "source": [
        "q1 = df['person_emp_exp'].quantile(0.25)\n",
        "q3 = df['person_emp_exp'].quantile(0.75)\n",
        "iqr = q3 - q1\n",
        "lower_bound = q1 - 1.5 * iqr\n",
        "upper_bound = q3 + 1.5 * iqr\n",
        "outliers = df[(df['person_emp_exp'] < lower_bound) | (df['person_emp_exp'] > upper_bound)]\n",
        "print(len(outliers),\"\\n\",lower_bound,\"\\n\",upper_bound)"
      ]
    },
    {
      "cell_type": "code",
      "execution_count": null,
      "metadata": {
        "id": "2_vyLIm7qznN"
      },
      "outputs": [],
      "source": [
        "df=df[df['person_emp_exp'] <=upper_bound]"
      ]
    },
    {
      "cell_type": "code",
      "execution_count": null,
      "metadata": {
        "colab": {
          "base_uri": "https://localhost:8080/"
        },
        "id": "SmlBxkDKrYoR",
        "outputId": "8983f2e6-f8d3-4aa6-9bb3-54622a5c1626"
      },
      "outputs": [
        {
          "output_type": "execute_result",
          "data": {
            "text/plain": [
              "(41212, 23)"
            ]
          },
          "metadata": {},
          "execution_count": 29
        }
      ],
      "source": [
        "df.shape"
      ]
    },
    {
      "cell_type": "code",
      "execution_count": null,
      "metadata": {
        "colab": {
          "base_uri": "https://localhost:8080/",
          "height": 370
        },
        "id": "mTUL_MkfraXG",
        "outputId": "9da86241-4c19-4755-8e15-8309e5459918"
      },
      "outputs": [
        {
          "output_type": "display_data",
          "data": {
            "text/plain": [
              "<Figure size 1000x500 with 1 Axes>"
            ],
            "image/png": "[encoded data removed]"
          },
          "metadata": {}
        }
      ],
      "source": [
        "# Plot histogram\n",
        "plt.figure(figsize=(10, 5))\n",
        "sns.histplot(df[\"loan_amnt\"], bins=30, kde=True, color=\"skyblue\")\n",
        "\n",
        "# Labels and title\n",
        "plt.xlabel(\"loan_amount\")\n",
        "plt.ylabel(\"Frequency\")\n",
        "plt.title(\"Distribution of loan_amount\")\n",
        "plt.grid(True)\n",
        "\n",
        "# Show plot\n",
        "plt.show()"
      ]
    },
    {
      "cell_type": "code",
      "execution_count": null,
      "metadata": {
        "colab": {
          "base_uri": "https://localhost:8080/"
        },
        "id": "KpdVbzQ1r6rp",
        "outputId": "fc1349a4-1f93-4230-a78e-15664985d7ce"
      },
      "outputs": [
        {
          "output_type": "stream",
          "name": "stdout",
          "text": [
            "1813 \n",
            " -5500.0 \n",
            " 22500.0\n"
          ]
        }
      ],
      "source": [
        "q1 = df['loan_amnt'].quantile(0.25)\n",
        "q3 = df['loan_amnt'].quantile(0.75)\n",
        "iqr = q3 - q1\n",
        "lower_bound = q1 - 1.5 * iqr\n",
        "upper_bound = q3 + 1.5 * iqr\n",
        "outliers = df[(df['loan_amnt'] < lower_bound) | (df['loan_amnt'] > upper_bound)]\n",
        "print(len(outliers),\"\\n\",lower_bound,\"\\n\",upper_bound)"
      ]
    },
    {
      "cell_type": "code",
      "execution_count": null,
      "metadata": {
        "id": "aP5qowI7sNLa"
      },
      "outputs": [],
      "source": [
        "df=df[df['loan_amnt'] <=upper_bound]"
      ]
    },
    {
      "cell_type": "code",
      "execution_count": null,
      "metadata": {
        "colab": {
          "base_uri": "https://localhost:8080/"
        },
        "id": "-Q6a89SdsHPf",
        "outputId": "26fe4723-9690-441b-bdee-95f6140e15fa"
      },
      "outputs": [
        {
          "output_type": "execute_result",
          "data": {
            "text/plain": [
              "(39399, 23)"
            ]
          },
          "metadata": {},
          "execution_count": 33
        }
      ],
      "source": [
        "df.shape"
      ]
    },
    {
      "cell_type": "code",
      "execution_count": null,
      "metadata": {
        "colab": {
          "base_uri": "https://localhost:8080/",
          "height": 370
        },
        "id": "LKCGQ66asIxF",
        "outputId": "4f2e8263-fda7-4cd4-d1dc-3dcecce1e04a"
      },
      "outputs": [
        {
          "output_type": "display_data",
          "data": {
            "text/plain": [
              "<Figure size 1000x500 with 1 Axes>"
            ],
            "image/png": "[encoded data removed]"
          },
          "metadata": {}
        }
      ],
      "source": [
        "# Plot histogram\n",
        "plt.figure(figsize=(10, 5))\n",
        "sns.histplot(df[\"loan_int_rate\"], bins=30, kde=True, color=\"skyblue\")\n",
        "\n",
        "# Labels and title\n",
        "plt.xlabel(\"loan_intrest_rate\")\n",
        "plt.ylabel(\"Frequency\")\n",
        "plt.title(\"Distribution of loan_intrest_rate\")\n",
        "plt.grid(True)\n",
        "\n",
        "# Show plot\n",
        "plt.show()"
      ]
    },
    {
      "cell_type": "code",
      "execution_count": null,
      "metadata": {
        "colab": {
          "base_uri": "https://localhost:8080/"
        },
        "id": "yVGRZnl9s4Ap",
        "outputId": "7de2ab20-5206-40d0-8561-13cd638e3b3d"
      },
      "outputs": [
        {
          "output_type": "stream",
          "name": "stdout",
          "text": [
            "78 \n",
            " 1.755 \n",
            " 19.715\n"
          ]
        }
      ],
      "source": [
        "q1 = df['loan_int_rate'].quantile(0.25)\n",
        "q3 = df['loan_int_rate'].quantile(0.75)\n",
        "iqr = q3 - q1\n",
        "lower_bound = q1 - 1.5 * iqr\n",
        "upper_bound = q3 + 1.5 * iqr\n",
        "outliers = df[(df['loan_int_rate'] < lower_bound) | (df['loan_int_rate'] > upper_bound)]\n",
        "print(len(outliers),\"\\n\",lower_bound,\"\\n\",upper_bound)"
      ]
    },
    {
      "cell_type": "code",
      "execution_count": null,
      "metadata": {
        "id": "brCvpvt6tbs9"
      },
      "outputs": [],
      "source": [
        "df=df[((df['loan_int_rate'] >=5) & (df['loan_int_rate'] <=upper_bound))]"
      ]
    },
    {
      "cell_type": "code",
      "execution_count": null,
      "metadata": {
        "colab": {
          "base_uri": "https://localhost:8080/"
        },
        "id": "SocQA9ZotoYZ",
        "outputId": "3768a67c-a403-4372-ac0e-fb2c8554519d"
      },
      "outputs": [
        {
          "output_type": "execute_result",
          "data": {
            "text/plain": [
              "(39321, 23)"
            ]
          },
          "metadata": {},
          "execution_count": 37
        }
      ],
      "source": [
        "df.shape"
      ]
    },
    {
      "cell_type": "code",
      "execution_count": null,
      "metadata": {
        "colab": {
          "base_uri": "https://localhost:8080/",
          "height": 370
        },
        "id": "xtfhQS9wtw4L",
        "outputId": "ce1d4238-fdf1-4397-eaec-7635fc2a8328"
      },
      "outputs": [
        {
          "output_type": "display_data",
          "data": {
            "text/plain": [
              "<Figure size 1000x500 with 1 Axes>"
            ],
            "image/png": "[encoded data removed]"
          },
          "metadata": {}
        }
      ],
      "source": [
        "\n",
        "\n",
        "# Plot histogram\n",
        "plt.figure(figsize=(10, 5))\n",
        "sns.histplot(df[\"loan_percent_income\"], bins=30, kde=True, color=\"skyblue\")\n",
        "\n",
        "# Labels and title\n",
        "plt.xlabel(\"loan_percent_income\")\n",
        "plt.ylabel(\"Frequency\")\n",
        "plt.title(\"Distribution of loan_percent_income\")\n",
        "plt.grid(True)\n",
        "\n",
        "# Show plot\n",
        "plt.show()"
      ]
    },
    {
      "cell_type": "code",
      "execution_count": null,
      "metadata": {
        "colab": {
          "base_uri": "https://localhost:8080/"
        },
        "id": "7-PhjsFuuKdX",
        "outputId": "34e622f6-0082-4d6e-adb6-b905790e73d2"
      },
      "outputs": [
        {
          "output_type": "stream",
          "name": "stdout",
          "text": [
            "1270 \n",
            " -0.06999999999999999 \n",
            " 0.32999999999999996\n"
          ]
        }
      ],
      "source": [
        "q1 = df['loan_percent_income'].quantile(0.25)\n",
        "q3 = df['loan_percent_income'].quantile(0.75)\n",
        "iqr = q3 - q1\n",
        "lower_bound = q1 - 1.5 * iqr\n",
        "upper_bound = q3 + 1.5 * iqr\n",
        "outliers = df[(df['loan_percent_income'] < lower_bound) | (df['loan_percent_income'] > upper_bound)]\n",
        "print(len(outliers),\"\\n\",lower_bound,\"\\n\",upper_bound)"
      ]
    },
    {
      "cell_type": "code",
      "execution_count": null,
      "metadata": {
        "id": "RkF-DCzWuizT"
      },
      "outputs": [],
      "source": [
        "df = df[df['loan_percent_income'] <= upper_bound]"
      ]
    },
    {
      "cell_type": "code",
      "execution_count": null,
      "metadata": {
        "colab": {
          "base_uri": "https://localhost:8080/"
        },
        "id": "sKPXxFzovJqG",
        "outputId": "2f9ec386-d58b-4506-aa8d-93131f894dc2"
      },
      "outputs": [
        {
          "output_type": "execute_result",
          "data": {
            "text/plain": [
              "(38051, 23)"
            ]
          },
          "metadata": {},
          "execution_count": 41
        }
      ],
      "source": [
        "df.shape"
      ]
    },
    {
      "cell_type": "code",
      "execution_count": null,
      "metadata": {
        "colab": {
          "base_uri": "https://localhost:8080/",
          "height": 370
        },
        "id": "KxwsjEvhwLcP",
        "outputId": "774e8d63-96b8-46a9-a2a6-454b201a507b"
      },
      "outputs": [
        {
          "output_type": "display_data",
          "data": {
            "text/plain": [
              "<Figure size 1000x500 with 1 Axes>"
            ],
            "image/png": "[encoded data removed]"
          },
          "metadata": {}
        }
      ],
      "source": [
        "# Plot histogram\n",
        "plt.figure(figsize=(10, 5))\n",
        "sns.histplot(df[\"cb_person_cred_hist_length\"], bins=30, kde=True, color=\"skyblue\")\n",
        "\n",
        "# Labels and title\n",
        "plt.xlabel(\"cb_person_cred_hist_length\")\n",
        "plt.ylabel(\"Frequency\")\n",
        "plt.title(\"Distribution of cb_person_cred_hist_length\")\n",
        "plt.grid(True)\n",
        "\n",
        "# Show plot\n",
        "plt.show()"
      ]
    },
    {
      "cell_type": "code",
      "execution_count": null,
      "metadata": {
        "colab": {
          "base_uri": "https://localhost:8080/"
        },
        "id": "bwA1p6MTxBa_",
        "outputId": "c497d12c-6951-4a58-c31d-e50f6681458b"
      },
      "outputs": [
        {
          "output_type": "stream",
          "name": "stdout",
          "text": [
            "1226 \n",
            " -3.0 \n",
            " 13.0\n"
          ]
        }
      ],
      "source": [
        "q1 = df['cb_person_cred_hist_length'].quantile(0.25)\n",
        "q3 = df['cb_person_cred_hist_length'].quantile(0.75)\n",
        "iqr = q3 - q1\n",
        "lower_bound = q1 - 1.5 * iqr\n",
        "upper_bound = q3 + 1.5 * iqr\n",
        "outliers = df[(df['cb_person_cred_hist_length'] < lower_bound) | (df['cb_person_cred_hist_length'] > upper_bound)]\n",
        "print(len(outliers),\"\\n\",lower_bound,\"\\n\",upper_bound)"
      ]
    },
    {
      "cell_type": "code",
      "execution_count": null,
      "metadata": {
        "id": "5Hvm15IjxMnZ"
      },
      "outputs": [],
      "source": [
        "df = df[df['cb_person_cred_hist_length'] <= upper_bound]"
      ]
    },
    {
      "cell_type": "code",
      "execution_count": null,
      "metadata": {
        "colab": {
          "base_uri": "https://localhost:8080/"
        },
        "id": "XrkbK9mSxbKM",
        "outputId": "53a7e6bb-7d03-4634-a629-042475226c1b"
      },
      "outputs": [
        {
          "output_type": "execute_result",
          "data": {
            "text/plain": [
              "(36825, 23)"
            ]
          },
          "metadata": {},
          "execution_count": 45
        }
      ],
      "source": [
        "df.shape"
      ]
    },
    {
      "cell_type": "code",
      "execution_count": null,
      "metadata": {
        "colab": {
          "base_uri": "https://localhost:8080/",
          "height": 370
        },
        "id": "MHOtWI0pxz2Y",
        "outputId": "82be3341-6ac4-4692-ec69-c728f4a07362"
      },
      "outputs": [
        {
          "output_type": "display_data",
          "data": {
            "text/plain": [
              "<Figure size 1000x500 with 1 Axes>"
            ],
            "image/png": "[encoded data removed]"
          },
          "metadata": {}
        }
      ],
      "source": [
        "# Plot histogram\n",
        "plt.figure(figsize=(10, 5))\n",
        "sns.histplot(df[\"credit_score\"], bins=30, kde=True, color=\"skyblue\")\n",
        "\n",
        "# Labels and title\n",
        "plt.xlabel(\"credit_score\")\n",
        "plt.ylabel(\"Frequency\")\n",
        "plt.title(\"Distribution of credit_score\")\n",
        "plt.grid(True)\n",
        "\n",
        "# Show plot\n",
        "plt.show()"
      ]
    },
    {
      "cell_type": "code",
      "execution_count": null,
      "metadata": {
        "colab": {
          "base_uri": "https://localhost:8080/"
        },
        "id": "5fx2ZQEyyNMY",
        "outputId": "766d8b34-0121-454b-d7ce-154a21ae0efa"
      },
      "outputs": [
        {
          "output_type": "stream",
          "name": "stdout",
          "text": [
            "397 \n",
            " 498.0 \n",
            " 770.0\n"
          ]
        }
      ],
      "source": [
        "q1 = df['credit_score'].quantile(0.25)\n",
        "q3 = df['credit_score'].quantile(0.75)\n",
        "iqr = q3 - q1\n",
        "lower_bound = q1 - 1.5 * iqr\n",
        "upper_bound = q3 + 1.5 * iqr\n",
        "outliers = df[(df['credit_score'] < lower_bound) | (df['credit_score'] > upper_bound)]\n",
        "print(len(outliers),\"\\n\",lower_bound,\"\\n\",upper_bound)"
      ]
    },
    {
      "cell_type": "code",
      "execution_count": null,
      "metadata": {
        "colab": {
          "base_uri": "https://localhost:8080/"
        },
        "id": "Jd-zqdO7ydBS",
        "outputId": "2758dadd-43be-4b69-c490-3ba745507a56"
      },
      "outputs": [
        {
          "output_type": "execute_result",
          "data": {
            "text/plain": [
              "390"
            ]
          },
          "metadata": {},
          "execution_count": 48
        }
      ],
      "source": [
        "df['credit_score'].min()"
      ]
    },
    {
      "cell_type": "code",
      "execution_count": null,
      "metadata": {
        "colab": {
          "base_uri": "https://localhost:8080/"
        },
        "id": "mmXqDy8JzR5v",
        "outputId": "37138205-3196-469e-84a4-26e0b661ae88"
      },
      "outputs": [
        {
          "output_type": "execute_result",
          "data": {
            "text/plain": [
              "768"
            ]
          },
          "metadata": {},
          "execution_count": 49
        }
      ],
      "source": [
        "df['credit_score'].max()"
      ]
    },
    {
      "cell_type": "code",
      "execution_count": null,
      "metadata": {
        "colab": {
          "base_uri": "https://localhost:8080/"
        },
        "collapsed": true,
        "id": "EU6EzICrzcSy",
        "outputId": "2f0f76c5-bd49-42ea-e3e4-7d84009ef426"
      },
      "outputs": [
        {
          "output_type": "stream",
          "name": "stdout",
          "text": [
            "<class 'pandas.core.frame.DataFrame'>\n",
            "Index: 36825 entries, 1 to 44999\n",
            "Data columns (total 23 columns):\n",
            " #   Column                          Non-Null Count  Dtype  \n",
            "---  ------                          --------------  -----  \n",
            " 0   person_age                      36825 non-null  float64\n",
            " 1   person_education                36825 non-null  int64  \n",
            " 2   person_income                   36825 non-null  float64\n",
            " 3   person_emp_exp                  36825 non-null  int64  \n",
            " 4   loan_amnt                       36825 non-null  float64\n",
            " 5   loan_int_rate                   36825 non-null  float64\n",
            " 6   loan_percent_income             36825 non-null  float64\n",
            " 7   cb_person_cred_hist_length      36825 non-null  float64\n",
            " 8   credit_score                    36825 non-null  int64  \n",
            " 9   previous_loan_defaults_on_file  36825 non-null  int64  \n",
            " 10  loan_status                     36825 non-null  int64  \n",
            " 11  person_gender_female            36825 non-null  float64\n",
            " 12  person_gender_male              36825 non-null  float64\n",
            " 13  person_home_ownership_MORTGAGE  36825 non-null  float64\n",
            " 14  person_home_ownership_OTHER     36825 non-null  float64\n",
            " 15  person_home_ownership_OWN       36825 non-null  float64\n",
            " 16  person_home_ownership_RENT      36825 non-null  float64\n",
            " 17  loan_intent_DEBTCONSOLIDATION   36825 non-null  float64\n",
            " 18  loan_intent_EDUCATION           36825 non-null  float64\n",
            " 19  loan_intent_HOMEIMPROVEMENT     36825 non-null  float64\n",
            " 20  loan_intent_MEDICAL             36825 non-null  float64\n",
            " 21  loan_intent_PERSONAL            36825 non-null  float64\n",
            " 22  loan_intent_VENTURE             36825 non-null  float64\n",
            "dtypes: float64(18), int64(5)\n",
            "memory usage: 6.7 MB\n"
          ]
        }
      ],
      "source": [
        "df.info()"
      ]
    },
    {
      "cell_type": "code",
      "execution_count": null,
      "metadata": {
        "id": "RsrUoXNizq1d"
      },
      "outputs": [],
      "source": [
        "from sklearn.model_selection import train_test_split\n",
        "from sklearn.preprocessing import StandardScaler\n",
        "x_train,x_test,y_train,y_test=train_test_split(df.drop('loan_status',axis=1),df['loan_status'],test_size=0.2,random_state=42)\n"
      ]
    },
    {
      "cell_type": "markdown",
      "source": [
        "#Smote"
      ],
      "metadata": {
        "id": "mxgIGXL9Lu1K"
      }
    },
    {
      "cell_type": "code",
      "execution_count": null,
      "metadata": {
        "id": "P8nuwXuj0B-_"
      },
      "outputs": [],
      "source": [
        "from imblearn.over_sampling import SMOTE\n",
        "smote = SMOTE(random_state=42)\n",
        "x_train_resampled, y_train_resampled = smote.fit_resample(x_train, y_train)"
      ]
    },
    {
      "cell_type": "markdown",
      "source": [
        "#Standardize"
      ],
      "metadata": {
        "id": "lMxr_Lh5LyKh"
      }
    },
    {
      "cell_type": "code",
      "execution_count": null,
      "metadata": {
        "id": "E-aKyL1f0qr-"
      },
      "outputs": [],
      "source": [
        "Scalar=StandardScaler()\n",
        "x_train_resampled=Scalar.fit_transform(x_train_resampled)\n",
        "x_test=Scalar.transform(x_test)"
      ]
    },
    {
      "cell_type": "code",
      "execution_count": null,
      "metadata": {
        "id": "FzJdZxtl2Xxo"
      },
      "outputs": [],
      "source": [
        "from sklearn.model_selection import train_test_split, RandomizedSearchCV\n",
        "from sklearn.metrics import accuracy_score, classification_report, confusion_matrix\n",
        "from sklearn.ensemble import RandomForestClassifier\n",
        "from sklearn.linear_model import LogisticRegression\n",
        "from sklearn.svm import SVC\n",
        "from sklearn.tree import DecisionTreeClassifier\n",
        "from sklearn.neighbors import KNeighborsClassifier\n",
        "from xgboost import XGBClassifier"
      ]
    },
    {
      "cell_type": "markdown",
      "source": [
        "#RandomForestClassifier"
      ],
      "metadata": {
        "id": "7oV5w1CvL2cv"
      }
    },
    {
      "cell_type": "code",
      "execution_count": null,
      "metadata": {
        "colab": {
          "base_uri": "https://localhost:8080/"
        },
        "id": "gqcvyFas3Hma",
        "outputId": "d6ffe2c0-369c-4c33-f242-ed97e0a0fb42"
      },
      "outputs": [
        {
          "output_type": "stream",
          "name": "stdout",
          "text": [
            "Fitting 5 folds for each of 10 candidates, totalling 50 fits\n"
          ]
        }
      ],
      "source": [
        "rfc=RandomForestClassifier(random_state=42)\n",
        "param_grid = {\n",
        "    'n_estimators': [50, 100, 200],\n",
        "    'max_depth': [10, 20, None],\n",
        "    'min_samples_split': [2, 5, 10],\n",
        "    'min_samples_leaf': [1, 2, 4]\n",
        "}\n",
        "\n",
        "r_search = RandomizedSearchCV(rfc, param_grid, cv=5, n_jobs=-1, verbose=2)\n",
        "model=r_search.fit(x_train_resampled, y_train_resampled)"
      ]
    },
    {
      "cell_type": "code",
      "execution_count": null,
      "metadata": {
        "id": "QqEtiDmsaxnu"
      },
      "outputs": [],
      "source": [
        "ypred=model.predict(x_test)"
      ]
    },
    {
      "cell_type": "code",
      "execution_count": null,
      "metadata": {
        "colab": {
          "base_uri": "https://localhost:8080/"
        },
        "collapsed": true,
        "id": "f1qJkozF5u8r",
        "outputId": "309ce476-bc33-40d6-c724-a8d8f193a3b4"
      },
      "outputs": [
        {
          "output_type": "stream",
          "name": "stdout",
          "text": [
            "              precision    recall  f1-score   support\n",
            "\n",
            "           0       0.94      0.96      0.95      5858\n",
            "           1       0.84      0.75      0.80      1507\n",
            "\n",
            "    accuracy                           0.92      7365\n",
            "   macro avg       0.89      0.86      0.87      7365\n",
            "weighted avg       0.92      0.92      0.92      7365\n",
            "\n"
          ]
        }
      ],
      "source": [
        "print(classification_report(y_test,ypred))"
      ]
    },
    {
      "cell_type": "code",
      "execution_count": null,
      "metadata": {
        "id": "PjHcj6uMMKOm"
      },
      "outputs": [],
      "source": [
        "from sklearn.metrics import accuracy_score, confusion_matrix, classification_report"
      ]
    },
    {
      "cell_type": "code",
      "execution_count": null,
      "metadata": {
        "colab": {
          "base_uri": "https://localhost:8080/"
        },
        "id": "LgqSOqUpj5sR",
        "outputId": "b78ec78f-cf69-416f-e458-dd785298189a"
      },
      "outputs": [
        {
          "output_type": "stream",
          "name": "stdout",
          "text": [
            "Train Accuracy: 1.0000\n",
            "Test Accuracy: 0.9207\n"
          ]
        }
      ],
      "source": [
        "y_train_pred = model.predict(x_train_resampled)  # Predictions on training data\n",
        "y_test_pred = model.predict(x_test)  # Predictions on test data\n",
        "print(f\"Train Accuracy: {accuracy_score(y_train_resampled, y_train_pred):.4f}\")  # Compare with actual train labels\n",
        "print(f\"Test Accuracy: {accuracy_score(y_test, y_test_pred):.4f}\") # Compare with actual test labels"
      ]
    },
    {
      "cell_type": "code",
      "source": [
        "y_test_pred = model.predict(x_test)\n",
        "print(confusion_matrix(y_test, y_test_pred))"
      ],
      "metadata": {
        "colab": {
          "base_uri": "https://localhost:8080/"
        },
        "id": "Ja0FdnlFWyy4",
        "outputId": "a0326785-cbf6-4874-ee09-3b0762bc55ff"
      },
      "execution_count": null,
      "outputs": [
        {
          "output_type": "stream",
          "name": "stdout",
          "text": [
            "[[5647  211]\n",
            " [ 373 1134]]\n"
          ]
        }
      ]
    },
    {
      "cell_type": "markdown",
      "source": [
        "#KNN"
      ],
      "metadata": {
        "id": "YAJlA5GmL94F"
      }
    },
    {
      "cell_type": "code",
      "execution_count": null,
      "metadata": {
        "colab": {
          "base_uri": "https://localhost:8080/"
        },
        "id": "Z3friidG8AX-",
        "outputId": "be9c9522-8027-4cbf-fe9a-0ab312e6d669"
      },
      "outputs": [
        {
          "output_type": "stream",
          "name": "stdout",
          "text": [
            "Fitting 5 folds for each of 10 candidates, totalling 50 fits\n"
          ]
        }
      ],
      "source": [
        "param_dist_knn = {'n_neighbors': [3, 5, 7, 9,11], 'weights': ['uniform', 'distance']}\n",
        "knn = KNeighborsClassifier()\n",
        "random_search_knn = RandomizedSearchCV(knn, param_distributions=param_dist_knn, cv=5, n_jobs=-1, verbose=2, n_iter=10, random_state=42)\n",
        "knnmodel=random_search_knn.fit(x_train_resampled, y_train_resampled)"
      ]
    },
    {
      "cell_type": "code",
      "execution_count": null,
      "metadata": {
        "id": "WJ79yN-_d-ZW"
      },
      "outputs": [],
      "source": [
        "ypred=knnmodel.predict(x_test)"
      ]
    },
    {
      "cell_type": "code",
      "execution_count": null,
      "metadata": {
        "colab": {
          "base_uri": "https://localhost:8080/"
        },
        "id": "h46j3bfUhwHJ",
        "outputId": "aa22fb10-bfce-45dd-f58e-c5ac0b6c7cc3"
      },
      "outputs": [
        {
          "output_type": "stream",
          "name": "stdout",
          "text": [
            "              precision    recall  f1-score   support\n",
            "\n",
            "           0       0.93      0.90      0.91      5858\n",
            "           1       0.65      0.73      0.69      1507\n",
            "\n",
            "    accuracy                           0.86      7365\n",
            "   macro avg       0.79      0.81      0.80      7365\n",
            "weighted avg       0.87      0.86      0.87      7365\n",
            "\n"
          ]
        }
      ],
      "source": [
        "print(classification_report(y_test,ypred))"
      ]
    },
    {
      "cell_type": "code",
      "source": [
        "y_train_pred = knnmodel.predict(x_train_resampled)  # Predictions on training data\n",
        "y_test_pred = knnmodel.predict(x_test)  # Predictions on test data\n",
        "print(f\"Train Accuracy: {accuracy_score(y_train_resampled, y_train_pred):.4f}\")  # Compare with actual train labels\n",
        "print(f\"Test Accuracy: {accuracy_score(y_test, ypred):.4f}\") # Compare with actual test labels"
      ],
      "metadata": {
        "colab": {
          "base_uri": "https://localhost:8080/"
        },
        "id": "fWtesj_OdL7d",
        "outputId": "db992efb-962f-48bd-c645-c5b52988403b"
      },
      "execution_count": null,
      "outputs": [
        {
          "output_type": "stream",
          "name": "stdout",
          "text": [
            "Train Accuracy: 1.0000\n",
            "Test Accuracy: 0.8637\n"
          ]
        }
      ]
    },
    {
      "cell_type": "code",
      "source": [
        "y_test_pred = knnmodel.predict(x_test)\n",
        "print(confusion_matrix(y_test, ypred))"
      ],
      "metadata": {
        "colab": {
          "base_uri": "https://localhost:8080/"
        },
        "id": "dJ60lOXGpTSl",
        "outputId": "456f87a1-9dd6-412d-8b53-31fcd90beebd"
      },
      "execution_count": null,
      "outputs": [
        {
          "output_type": "stream",
          "name": "stdout",
          "text": [
            "[[5261  597]\n",
            " [ 407 1100]]\n"
          ]
        }
      ]
    },
    {
      "cell_type": "code",
      "execution_count": null,
      "metadata": {
        "id": "Gjnswut7jw7W"
      },
      "outputs": [],
      "source": [
        "import numpy as np\n"
      ]
    },
    {
      "cell_type": "markdown",
      "source": [
        "#Logistic Regression"
      ],
      "metadata": {
        "id": "m94Ol-jwME3m"
      }
    },
    {
      "cell_type": "code",
      "execution_count": null,
      "metadata": {
        "colab": {
          "base_uri": "https://localhost:8080/"
        },
        "id": "WgGg060Mh1yP",
        "outputId": "35a34102-8793-4fc1-dccb-07c521ab1c49"
      },
      "outputs": [
        {
          "output_type": "stream",
          "name": "stdout",
          "text": [
            "Fitting 5 folds for each of 10 candidates, totalling 50 fits\n",
            "Best Parameters for Logistic Regression: {'solver': 'liblinear', 'penalty': 'l2', 'C': 0.08858667904100823}\n",
            "Accuracy for Logistic Regression: 0.8591989137813985\n",
            "Classification Report:\n",
            "               precision    recall  f1-score   support\n",
            "\n",
            "           0       0.97      0.85      0.91      5858\n",
            "           1       0.61      0.90      0.72      1507\n",
            "\n",
            "    accuracy                           0.86      7365\n",
            "   macro avg       0.79      0.87      0.81      7365\n",
            "weighted avg       0.90      0.86      0.87      7365\n",
            "\n"
          ]
        }
      ],
      "source": [
        "param_dist_log_reg = {\n",
        "    'C': np.logspace(-4, 4, 20),\n",
        "    'penalty': ['l1', 'l2',],\n",
        "    'solver': ['liblinear', 'saga'],\n",
        "\n",
        "}\n",
        "\n",
        "\n",
        "log_reg = LogisticRegression(max_iter=5000)\n",
        "random_search_log_reg = RandomizedSearchCV(log_reg, param_distributions=param_dist_log_reg, cv=5, n_jobs=-1, verbose=2, n_iter=10, random_state=42)\n",
        "random_search_log_reg.fit(x_train_resampled, y_train_resampled)\n",
        "\n",
        "# Best Logistic Regression Model Evaluation\n",
        "best_log_reg = random_search_log_reg.best_estimator_\n",
        "y_pred_log_reg = best_log_reg.predict(x_test)\n",
        "\n",
        "print(\"Best Parameters for Logistic Regression:\", random_search_log_reg.best_params_)\n",
        "print(\"Accuracy for Logistic Regression:\", accuracy_score(y_test, y_pred_log_reg))\n",
        "print(\"Classification Report:\\n\", classification_report(y_test, y_pred_log_reg))"
      ]
    },
    {
      "cell_type": "code",
      "source": [
        "y_train_pred = best_log_reg.predict(x_train_resampled)  # Predictions on training data\n",
        "y_test_pred = best_log_reg.predict(x_test)  # Predictions on test data\n",
        "print(f\"Train Accuracy: {accuracy_score(y_train_resampled, y_train_pred):.4f}\")  # Compare with actual train labels\n",
        "print(f\"Test Accuracy: {accuracy_score(y_test, y_pred_log_reg):.4f}\") # Compare with actual test labels"
      ],
      "metadata": {
        "colab": {
          "base_uri": "https://localhost:8080/"
        },
        "id": "g0CPNZMZ-aEw",
        "outputId": "6a969e3b-944f-4ec8-f93d-b448949619e3"
      },
      "execution_count": null,
      "outputs": [
        {
          "output_type": "stream",
          "name": "stdout",
          "text": [
            "Train Accuracy: 0.8896\n",
            "Test Accuracy: 0.8592\n"
          ]
        }
      ]
    },
    {
      "cell_type": "code",
      "source": [
        "y_test_pred =  best_log_reg.predict(x_test)\n",
        "print(confusion_matrix(y_test, y_pred_log_reg))"
      ],
      "metadata": {
        "colab": {
          "base_uri": "https://localhost:8080/"
        },
        "id": "Sa09XzVq-xhs",
        "outputId": "1e36e5e9-2b8a-478f-9cc2-66a2e0de900e"
      },
      "execution_count": null,
      "outputs": [
        {
          "output_type": "stream",
          "name": "stdout",
          "text": [
            "[[4977  881]\n",
            " [ 156 1351]]\n"
          ]
        }
      ]
    },
    {
      "cell_type": "markdown",
      "source": [
        "#DecisionTreeClassifier"
      ],
      "metadata": {
        "id": "KcSYCScUMLJz"
      }
    },
    {
      "cell_type": "code",
      "execution_count": null,
      "metadata": {
        "colab": {
          "base_uri": "https://localhost:8080/"
        },
        "id": "ibHj0PmAj0tu",
        "outputId": "ec07e6ce-5986-46c6-dd5d-17e8d4007e5f"
      },
      "outputs": [
        {
          "output_type": "stream",
          "name": "stdout",
          "text": [
            "Fitting 5 folds for each of 10 candidates, totalling 50 fits\n",
            "Best Parameters for Decision Tree: {'min_samples_split': 10, 'min_samples_leaf': 4, 'max_depth': 30, 'criterion': 'entropy'}\n",
            "Accuracy for Decision Tree: 0.8980312287847929\n",
            "Classification Report:\n",
            "               precision    recall  f1-score   support\n",
            "\n",
            "           0       0.93      0.94      0.94      5858\n",
            "           1       0.75      0.74      0.75      1507\n",
            "\n",
            "    accuracy                           0.90      7365\n",
            "   macro avg       0.84      0.84      0.84      7365\n",
            "weighted avg       0.90      0.90      0.90      7365\n",
            "\n"
          ]
        }
      ],
      "source": [
        "param_dist_dt = {\n",
        "    'criterion': ['gini', 'entropy'],\n",
        "    'max_depth': [10, 20, 30, None],\n",
        "    'min_samples_split': [2, 5, 10],\n",
        "    'min_samples_leaf': [1, 2, 4]\n",
        "}\n",
        "\n",
        "dt = DecisionTreeClassifier(random_state=42)\n",
        "random_search_dt = RandomizedSearchCV(dt, param_distributions=param_dist_dt, cv=5, n_jobs=-1, verbose=2, n_iter=10, random_state=42)\n",
        "random_search_dt.fit(x_train_resampled, y_train_resampled)\n",
        "\n",
        "# Best Decision Tree Model Evaluation\n",
        "best_dt = random_search_dt.best_estimator_\n",
        "y_pred_dt = best_dt.predict(x_test)\n",
        "\n",
        "print(\"Best Parameters for Decision Tree:\", random_search_dt.best_params_)\n",
        "print(\"Accuracy for Decision Tree:\", accuracy_score(y_test, y_pred_dt))\n",
        "print(\"Classification Report:\\n\", classification_report(y_test, y_pred_dt))"
      ]
    },
    {
      "cell_type": "code",
      "source": [
        "y_train_pred = best_dt.predict(x_train_resampled)  # Predictions on training data\n",
        "y_test_pred = best_dt.predict(x_test)  # Predictions on test data\n",
        "print(f\"Train Accuracy: {accuracy_score(y_test, y_pred_dt):.4f}\")  # Compare with actual train labels\n",
        "print(f\"Test Accuracy: {accuracy_score(y_test, y_pred_dt):.4f}\") # Compare with actual test labels"
      ],
      "metadata": {
        "colab": {
          "base_uri": "https://localhost:8080/"
        },
        "id": "9_gM0IIu_QjB",
        "outputId": "ef14964c-a043-4774-9374-19f6b3419652"
      },
      "execution_count": null,
      "outputs": [
        {
          "output_type": "stream",
          "name": "stdout",
          "text": [
            "Train Accuracy: 0.8980\n",
            "Test Accuracy: 0.8980\n"
          ]
        }
      ]
    },
    {
      "cell_type": "code",
      "source": [
        "y_test_pred =  best_dt.predict(x_test)\n",
        "print(confusion_matrix(y_test, y_pred_dt))"
      ],
      "metadata": {
        "colab": {
          "base_uri": "https://localhost:8080/"
        },
        "id": "zVqinjT2_lun",
        "outputId": "063268bd-5588-4fd7-8011-daf96b4c5bbe"
      },
      "execution_count": null,
      "outputs": [
        {
          "output_type": "stream",
          "name": "stdout",
          "text": [
            "[[5493  365]\n",
            " [ 386 1121]]\n"
          ]
        }
      ]
    },
    {
      "cell_type": "code",
      "execution_count": null,
      "metadata": {
        "id": "6lcAcx3B-75P"
      },
      "outputs": [],
      "source": [
        "#pip install --upgrade scikit-learn xgboost\n"
      ]
    },
    {
      "cell_type": "markdown",
      "source": [
        "#XGBClassifier"
      ],
      "metadata": {
        "id": "FM6sPzefMSN-"
      }
    },
    {
      "cell_type": "code",
      "execution_count": null,
      "metadata": {
        "colab": {
          "base_uri": "https://localhost:8080/"
        },
        "id": "BhwchXqrp5PD",
        "outputId": "decad402-16d9-4b37-8eeb-973a1943cc9a"
      },
      "outputs": [
        {
          "output_type": "stream",
          "name": "stdout",
          "text": [
            "Fitting 5 folds for each of 10 candidates, totalling 50 fits\n"
          ]
        },
        {
          "output_type": "stream",
          "name": "stderr",
          "text": [
            "/usr/local/lib/python3.11/dist-packages/xgboost/core.py:158: UserWarning: [07:23:30] WARNING: /workspace/src/learner.cc:740: \n",
            "Parameters: { \"use_label_encoder\" } are not used.\n",
            "\n",
            "  warnings.warn(smsg, UserWarning)\n"
          ]
        },
        {
          "output_type": "stream",
          "name": "stdout",
          "text": [
            "Best Parameters for XGBoost: {'subsample': 1.0, 'n_estimators': 300, 'max_depth': 6, 'learning_rate': 0.1, 'colsample_bytree': 1.0}\n",
            "Accuracy for XGBoost: 0.9344195519348268\n",
            "Classification Report:\n",
            "               precision    recall  f1-score   support\n",
            "\n",
            "           0       0.95      0.97      0.96      5858\n",
            "           1       0.88      0.79      0.83      1507\n",
            "\n",
            "    accuracy                           0.93      7365\n",
            "   macro avg       0.91      0.88      0.90      7365\n",
            "weighted avg       0.93      0.93      0.93      7365\n",
            "\n"
          ]
        }
      ],
      "source": [
        "param_dist_xgb = {\n",
        "    'n_estimators': [100, 200, 300],\n",
        "    'learning_rate': [0.01, 0.1, 0.2],\n",
        "    'max_depth': [3, 6, 9],\n",
        "    'subsample': [0.8, 1.0],\n",
        "    'colsample_bytree': [0.8, 1.0]\n",
        "}\n",
        "\n",
        "xgb = XGBClassifier(random_state=42, use_label_encoder=False, eval_metric='logloss')\n",
        "random_search_xgb = RandomizedSearchCV(xgb, param_distributions=param_dist_xgb, cv=5, n_jobs=-1, verbose=2, n_iter=10, random_state=42)\n",
        "random_search_xgb.fit(x_train_resampled, y_train_resampled)\n",
        "\n",
        "# Best XGBoost Model Evaluation\n",
        "best_xgb = random_search_xgb.best_estimator_\n",
        "y_pred_xgb = best_xgb.predict(x_test)\n",
        "\n",
        "print(\"Best Parameters for XGBoost:\", random_search_xgb.best_params_)\n",
        "print(\"Accuracy for XGBoost:\", accuracy_score(y_test, y_pred_xgb))\n",
        "print(\"Classification Report:\\n\", classification_report(y_test, y_pred_xgb))"
      ]
    },
    {
      "cell_type": "code",
      "source": [
        "y_train_pred = best_xgb.predict(x_train_resampled)  # Predictions on training data\n",
        "y_test_pred = best_xgb.predict(x_test)  # Predictions on test data\n",
        "print(f\"Train Accuracy: {accuracy_score(y_test, y_pred_xgb):.4f}\")  # Compare with actual train labels\n",
        "print(f\"Test Accuracy: {accuracy_score(y_test, y_pred_xgb):.4f}\") # Compare with actual test labels"
      ],
      "metadata": {
        "colab": {
          "base_uri": "https://localhost:8080/"
        },
        "id": "gum6hLvd_vDn",
        "outputId": "9958c67d-1e4f-4962-c7bd-99e74c9a476f"
      },
      "execution_count": null,
      "outputs": [
        {
          "output_type": "stream",
          "name": "stdout",
          "text": [
            "Train Accuracy: 0.9344\n",
            "Test Accuracy: 0.9344\n"
          ]
        }
      ]
    },
    {
      "cell_type": "code",
      "execution_count": null,
      "metadata": {
        "id": "C7B4yhoVFRnN",
        "colab": {
          "base_uri": "https://localhost:8080/"
        },
        "outputId": "3a366c89-2624-48f5-fc91-02cb6924ec65"
      },
      "outputs": [
        {
          "output_type": "stream",
          "name": "stdout",
          "text": [
            "[[5695  163]\n",
            " [ 320 1187]]\n"
          ]
        }
      ],
      "source": [
        "y_test_pred =   best_xgb.predict(x_test)\n",
        "print(confusion_matrix(y_test, y_pred_xgb))"
      ]
    },
    {
      "cell_type": "code",
      "source": [
        "import pickle"
      ],
      "metadata": {
        "id": "yCm5ItbJP-Pa"
      },
      "execution_count": null,
      "outputs": []
    },
    {
      "cell_type": "code",
      "source": [
        "pickle.dump(best_log_reg,open('model.sav','wb'))"
      ],
      "metadata": {
        "id": "rtARvqSgg81G"
      },
      "execution_count": null,
      "outputs": []
    },
    {
      "cell_type": "code",
      "source": [
        "pickle.dump(Scalar,open('Scalar.sav','wb'))"
      ],
      "metadata": {
        "id": "r6Y5qnjEhSna"
      },
      "execution_count": null,
      "outputs": []
    },
    {
      "cell_type": "code",
      "source": [
        "pickle.dump(ohe1,open('ohe1.sav','wb'))"
      ],
      "metadata": {
        "id": "UT4os6tfhjbX"
      },
      "execution_count": null,
      "outputs": []
    },
    {
      "cell_type": "code",
      "source": [
        "pickle.dump(ohe2,open('ohe2.sav','wb'))"
      ],
      "metadata": {
        "id": "cO9_r5fhhslx"
      },
      "execution_count": null,
      "outputs": []
    },
    {
      "cell_type": "code",
      "source": [
        "pickle.dump(ohe3,open('ohe3.sav','wb'))"
      ],
      "metadata": {
        "id": "PI782uwGh7je"
      },
      "execution_count": null,
      "outputs": []
    },
    {
      "cell_type": "code",
      "source": [
        "pickle.dump(LabelEncoder,open('LabelEncoder.sav','wb'))"
      ],
      "metadata": {
        "id": "V-VCzZ7zh-AX"
      },
      "execution_count": null,
      "outputs": []
    },
    {
      "cell_type": "code",
      "source": [],
      "metadata": {
        "id": "AJBkn49giOdv"
      },
      "execution_count": null,
      "outputs": []
    }
  ],
  "metadata": {
    "colab": {
      "provenance": []
    },
    "kernelspec": {
      "display_name": "Python 3",
      "name": "python3"
    },
    "language_info": {
      "name": "python"
    }
  },
  "nbformat": 4,
  "nbformat_minor": 0
}